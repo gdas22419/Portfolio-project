{
 "cells": [
  {
   "cell_type": "code",
   "execution_count": 1,
   "id": "964a51c7",
   "metadata": {},
   "outputs": [],
   "source": [
    "import pickle\n",
    "import pandas as pd\n",
    "\n",
    "# importing Libraries\n",
    "from tqdm import tqdm\n",
    "import shutil\n",
    "import os \n",
    "import numpy as np\n",
    "from datetime import datetime\n",
    "import matplotlib.pyplot as plt\n",
    "import seaborn as sns\n",
    "import random\n",
    "from wordcloud import WordCloud\n",
    "\n",
    "# Data preprtocessing\n",
    "\n",
    "import re\n",
    "from nltk.corpus import stopwords\n",
    "from nltk.stem import RSLPStemmer\n",
    "from sklearn.feature_extraction.text import CountVectorizer,TfidfVectorizer\n",
    "from sklearn.preprocessing import Normalizer\n",
    "\n",
    "\n",
    "# Model\n",
    "from sklearn.model_selection import train_test_split\n",
    "\n",
    "\n",
    "from sklearn.model_selection import RandomizedSearchCV,GridSearchCV\n",
    "from sklearn.tree import DecisionTreeClassifier\n",
    "from sklearn.calibration import CalibratedClassifierCV\n",
    "from sklearn.linear_model import SGDClassifier,LogisticRegression\n",
    "from sklearn.neighbors import KNeighborsClassifier \n",
    "from sklearn.ensemble import RandomForestClassifier,StackingClassifier,VotingClassifier\n",
    "\n",
    "# matrics\n",
    "\n",
    "from sklearn.metrics import log_loss,accuracy_score,confusion_matrix,f1_score\n",
    "\n",
    "\n",
    "# libraries for deep learning model\n",
    "from tensorflow.keras.layers import LeakyReLU\n",
    "from tensorflow.keras.models import Model\n",
    "from tensorflow.keras.layers import Input\n",
    "from tensorflow.keras.layers import Dense\n",
    "from tensorflow.keras.layers import BatchNormalization\n",
    "from tensorflow.keras.models import load_model\n",
    "\n"
   ]
  },
  {
   "cell_type": "code",
   "execution_count": 77,
   "id": "5299bf47",
   "metadata": {},
   "outputs": [
    {
     "name": "stdout",
     "output_type": "stream",
     "text": [
      "Defaulting to user installation because normal site-packages is not writeable\n",
      "Requirement already satisfied: gensim in c:\\programdata\\anaconda3\\lib\\site-packages (4.1.2)\n",
      "Requirement already satisfied: numpy>=1.17.0 in c:\\programdata\\anaconda3\\lib\\site-packages (from gensim) (1.21.5)\n",
      "Requirement already satisfied: smart-open>=1.8.1 in c:\\programdata\\anaconda3\\lib\\site-packages (from gensim) (5.1.0)\n",
      "Requirement already satisfied: scipy>=0.18.1 in c:\\programdata\\anaconda3\\lib\\site-packages (from gensim) (1.7.3)\n"
     ]
    }
   ],
   "source": [
    "!pip install gensim\n"
   ]
  },
  {
   "cell_type": "code",
   "execution_count": 78,
   "id": "f3d9cd5d",
   "metadata": {},
   "outputs": [
    {
     "name": "stdout",
     "output_type": "stream",
     "text": [
      "Defaulting to user installation because normal site-packages is not writeable\n",
      "Collecting fasttext\n",
      "  Using cached fasttext-0.9.2.tar.gz (68 kB)\n",
      "Requirement already satisfied: pybind11>=2.2 in c:\\users\\user\\appdata\\roaming\\python\\python39\\site-packages (from fasttext) (2.10.0)\n",
      "Requirement already satisfied: setuptools>=0.7.0 in c:\\programdata\\anaconda3\\lib\\site-packages (from fasttext) (61.2.0)\n",
      "Requirement already satisfied: numpy in c:\\programdata\\anaconda3\\lib\\site-packages (from fasttext) (1.21.5)\n",
      "Building wheels for collected packages: fasttext\n",
      "  Building wheel for fasttext (setup.py): started\n",
      "  Building wheel for fasttext (setup.py): finished with status 'error'\n",
      "  Running setup.py clean for fasttext\n",
      "Failed to build fasttext\n",
      "Installing collected packages: fasttext\n",
      "    Running setup.py install for fasttext: started\n",
      "    Running setup.py install for fasttext: finished with status 'error'\n",
      "Note: you may need to restart the kernel to use updated packages.\n"
     ]
    },
    {
     "name": "stderr",
     "output_type": "stream",
     "text": [
      "  ERROR: Command errored out with exit status 1:\n",
      "   command: 'C:\\ProgramData\\Anaconda3\\python.exe' -u -c 'import io, os, sys, setuptools, tokenize; sys.argv[0] = '\"'\"'C:\\\\Windows\\\\Temp\\\\pip-install-6nysi9mb\\\\fasttext_d01c9b9ede194e308740365123c10cd3\\\\setup.py'\"'\"'; __file__='\"'\"'C:\\\\Windows\\\\Temp\\\\pip-install-6nysi9mb\\\\fasttext_d01c9b9ede194e308740365123c10cd3\\\\setup.py'\"'\"';f = getattr(tokenize, '\"'\"'open'\"'\"', open)(__file__) if os.path.exists(__file__) else io.StringIO('\"'\"'from setuptools import setup; setup()'\"'\"');code = f.read().replace('\"'\"'\\r\\n'\"'\"', '\"'\"'\\n'\"'\"');f.close();exec(compile(code, __file__, '\"'\"'exec'\"'\"'))' bdist_wheel -d 'C:\\Windows\\Temp\\pip-wheel-94bq030p'\n",
      "       cwd: C:\\Windows\\Temp\\pip-install-6nysi9mb\\fasttext_d01c9b9ede194e308740365123c10cd3\\\n",
      "  Complete output (20 lines):\n",
      "  C:\\ProgramData\\Anaconda3\\lib\\site-packages\\setuptools\\dist.py:757: UserWarning: Usage of dash-separated 'description-file' will not be supported in future versions. Please use the underscore name 'description_file' instead\n",
      "    warnings.warn(\n",
      "  running bdist_wheel\n",
      "  running build\n",
      "  running build_py\n",
      "  creating build\n",
      "  creating build\\lib.win-amd64-3.9\n",
      "  creating build\\lib.win-amd64-3.9\\fasttext\n",
      "  copying python\\fasttext_module\\fasttext\\FastText.py -> build\\lib.win-amd64-3.9\\fasttext\n",
      "  copying python\\fasttext_module\\fasttext\\__init__.py -> build\\lib.win-amd64-3.9\\fasttext\n",
      "  creating build\\lib.win-amd64-3.9\\fasttext\\util\n",
      "  copying python\\fasttext_module\\fasttext\\util\\util.py -> build\\lib.win-amd64-3.9\\fasttext\\util\n",
      "  copying python\\fasttext_module\\fasttext\\util\\__init__.py -> build\\lib.win-amd64-3.9\\fasttext\\util\n",
      "  creating build\\lib.win-amd64-3.9\\fasttext\\tests\n",
      "  copying python\\fasttext_module\\fasttext\\tests\\test_configurations.py -> build\\lib.win-amd64-3.9\\fasttext\\tests\n",
      "  copying python\\fasttext_module\\fasttext\\tests\\test_script.py -> build\\lib.win-amd64-3.9\\fasttext\\tests\n",
      "  copying python\\fasttext_module\\fasttext\\tests\\__init__.py -> build\\lib.win-amd64-3.9\\fasttext\\tests\n",
      "  running build_ext\n",
      "  building 'fasttext_pybind' extension\n",
      "  error: Microsoft Visual C++ 14.0 or greater is required. Get it with \"Microsoft C++ Build Tools\": https://visualstudio.microsoft.com/visual-cpp-build-tools/\n",
      "  ----------------------------------------\n",
      "  ERROR: Failed building wheel for fasttext\n",
      "    ERROR: Command errored out with exit status 1:\n",
      "     command: 'C:\\ProgramData\\Anaconda3\\python.exe' -u -c 'import io, os, sys, setuptools, tokenize; sys.argv[0] = '\"'\"'C:\\\\Windows\\\\Temp\\\\pip-install-6nysi9mb\\\\fasttext_d01c9b9ede194e308740365123c10cd3\\\\setup.py'\"'\"'; __file__='\"'\"'C:\\\\Windows\\\\Temp\\\\pip-install-6nysi9mb\\\\fasttext_d01c9b9ede194e308740365123c10cd3\\\\setup.py'\"'\"';f = getattr(tokenize, '\"'\"'open'\"'\"', open)(__file__) if os.path.exists(__file__) else io.StringIO('\"'\"'from setuptools import setup; setup()'\"'\"');code = f.read().replace('\"'\"'\\r\\n'\"'\"', '\"'\"'\\n'\"'\"');f.close();exec(compile(code, __file__, '\"'\"'exec'\"'\"'))' install --record 'C:\\Windows\\Temp\\pip-record-gau9yftl\\install-record.txt' --single-version-externally-managed --user --prefix= --compile --install-headers 'C:\\Users\\USER\\AppData\\Roaming\\Python\\Python39\\Include\\fasttext'\n",
      "         cwd: C:\\Windows\\Temp\\pip-install-6nysi9mb\\fasttext_d01c9b9ede194e308740365123c10cd3\\\n",
      "    Complete output (22 lines):\n",
      "    C:\\ProgramData\\Anaconda3\\lib\\site-packages\\setuptools\\dist.py:757: UserWarning: Usage of dash-separated 'description-file' will not be supported in future versions. Please use the underscore name 'description_file' instead\n",
      "      warnings.warn(\n",
      "    running install\n",
      "    C:\\ProgramData\\Anaconda3\\lib\\site-packages\\setuptools\\command\\install.py:34: SetuptoolsDeprecationWarning: setup.py install is deprecated. Use build and pip and other standards-based tools.\n",
      "      warnings.warn(\n",
      "    running build\n",
      "    running build_py\n",
      "    creating build\n",
      "    creating build\\lib.win-amd64-3.9\n",
      "    creating build\\lib.win-amd64-3.9\\fasttext\n",
      "    copying python\\fasttext_module\\fasttext\\FastText.py -> build\\lib.win-amd64-3.9\\fasttext\n",
      "    copying python\\fasttext_module\\fasttext\\__init__.py -> build\\lib.win-amd64-3.9\\fasttext\n",
      "    creating build\\lib.win-amd64-3.9\\fasttext\\util\n",
      "    copying python\\fasttext_module\\fasttext\\util\\util.py -> build\\lib.win-amd64-3.9\\fasttext\\util\n",
      "    copying python\\fasttext_module\\fasttext\\util\\__init__.py -> build\\lib.win-amd64-3.9\\fasttext\\util\n",
      "    creating build\\lib.win-amd64-3.9\\fasttext\\tests\n",
      "    copying python\\fasttext_module\\fasttext\\tests\\test_configurations.py -> build\\lib.win-amd64-3.9\\fasttext\\tests\n",
      "    copying python\\fasttext_module\\fasttext\\tests\\test_script.py -> build\\lib.win-amd64-3.9\\fasttext\\tests\n",
      "    copying python\\fasttext_module\\fasttext\\tests\\__init__.py -> build\\lib.win-amd64-3.9\\fasttext\\tests\n",
      "    running build_ext\n",
      "    building 'fasttext_pybind' extension\n",
      "    error: Microsoft Visual C++ 14.0 or greater is required. Get it with \"Microsoft C++ Build Tools\": https://visualstudio.microsoft.com/visual-cpp-build-tools/\n",
      "    ----------------------------------------\n",
      "ERROR: Command errored out with exit status 1: 'C:\\ProgramData\\Anaconda3\\python.exe' -u -c 'import io, os, sys, setuptools, tokenize; sys.argv[0] = '\"'\"'C:\\\\Windows\\\\Temp\\\\pip-install-6nysi9mb\\\\fasttext_d01c9b9ede194e308740365123c10cd3\\\\setup.py'\"'\"'; __file__='\"'\"'C:\\\\Windows\\\\Temp\\\\pip-install-6nysi9mb\\\\fasttext_d01c9b9ede194e308740365123c10cd3\\\\setup.py'\"'\"';f = getattr(tokenize, '\"'\"'open'\"'\"', open)(__file__) if os.path.exists(__file__) else io.StringIO('\"'\"'from setuptools import setup; setup()'\"'\"');code = f.read().replace('\"'\"'\\r\\n'\"'\"', '\"'\"'\\n'\"'\"');f.close();exec(compile(code, __file__, '\"'\"'exec'\"'\"'))' install --record 'C:\\Windows\\Temp\\pip-record-gau9yftl\\install-record.txt' --single-version-externally-managed --user --prefix= --compile --install-headers 'C:\\Users\\USER\\AppData\\Roaming\\Python\\Python39\\Include\\fasttext' Check the logs for full command output.\n"
     ]
    }
   ],
   "source": [
    "pip install fasttext\n"
   ]
  },
  {
   "cell_type": "code",
   "execution_count": 2,
   "id": "3e504886",
   "metadata": {},
   "outputs": [
    {
     "name": "stdout",
     "output_type": "stream",
     "text": [
      "Defaulting to user installation because normal site-packages is not writeableNote: you may need to restart the kernel to use updated packages.\n",
      "\n",
      "Collecting fasttext\n",
      "  Using cached fasttext-0.9.2.tar.gz (68 kB)\n",
      "Requirement already satisfied: pybind11>=2.2 in c:\\users\\user\\appdata\\roaming\\python\\python39\\site-packages (from fasttext) (2.10.0)\n",
      "Requirement already satisfied: setuptools>=0.7.0 in c:\\programdata\\anaconda3\\lib\\site-packages (from fasttext) (61.2.0)\n",
      "Requirement already satisfied: numpy in c:\\programdata\\anaconda3\\lib\\site-packages (from fasttext) (1.21.5)\n",
      "Building wheels for collected packages: fasttext\n",
      "  Building wheel for fasttext (setup.py): started\n",
      "  Building wheel for fasttext (setup.py): finished with status 'error'\n",
      "  Running setup.py clean for fasttext\n",
      "Failed to build fasttext\n",
      "Installing collected packages: fasttext\n",
      "    Running setup.py install for fasttext: started\n",
      "    Running setup.py install for fasttext: finished with status 'error'\n"
     ]
    },
    {
     "name": "stderr",
     "output_type": "stream",
     "text": [
      "  ERROR: Command errored out with exit status 1:\n",
      "   command: 'C:\\ProgramData\\Anaconda3\\python.exe' -u -c 'import io, os, sys, setuptools, tokenize; sys.argv[0] = '\"'\"'C:\\\\Windows\\\\Temp\\\\pip-install-5z_34s41\\\\fasttext_bcbff0f44a2846c18f1512b6279690bc\\\\setup.py'\"'\"'; __file__='\"'\"'C:\\\\Windows\\\\Temp\\\\pip-install-5z_34s41\\\\fasttext_bcbff0f44a2846c18f1512b6279690bc\\\\setup.py'\"'\"';f = getattr(tokenize, '\"'\"'open'\"'\"', open)(__file__) if os.path.exists(__file__) else io.StringIO('\"'\"'from setuptools import setup; setup()'\"'\"');code = f.read().replace('\"'\"'\\r\\n'\"'\"', '\"'\"'\\n'\"'\"');f.close();exec(compile(code, __file__, '\"'\"'exec'\"'\"'))' bdist_wheel -d 'C:\\Windows\\Temp\\pip-wheel-gaaogv1s'\n",
      "       cwd: C:\\Windows\\Temp\\pip-install-5z_34s41\\fasttext_bcbff0f44a2846c18f1512b6279690bc\\\n",
      "  Complete output (20 lines):\n",
      "  C:\\ProgramData\\Anaconda3\\lib\\site-packages\\setuptools\\dist.py:757: UserWarning: Usage of dash-separated 'description-file' will not be supported in future versions. Please use the underscore name 'description_file' instead\n",
      "    warnings.warn(\n",
      "  running bdist_wheel\n",
      "  running build\n",
      "  running build_py\n",
      "  creating build\n",
      "  creating build\\lib.win-amd64-3.9\n",
      "  creating build\\lib.win-amd64-3.9\\fasttext\n",
      "  copying python\\fasttext_module\\fasttext\\FastText.py -> build\\lib.win-amd64-3.9\\fasttext\n",
      "  copying python\\fasttext_module\\fasttext\\__init__.py -> build\\lib.win-amd64-3.9\\fasttext\n",
      "  creating build\\lib.win-amd64-3.9\\fasttext\\util\n",
      "  copying python\\fasttext_module\\fasttext\\util\\util.py -> build\\lib.win-amd64-3.9\\fasttext\\util\n",
      "  copying python\\fasttext_module\\fasttext\\util\\__init__.py -> build\\lib.win-amd64-3.9\\fasttext\\util\n",
      "  creating build\\lib.win-amd64-3.9\\fasttext\\tests\n",
      "  copying python\\fasttext_module\\fasttext\\tests\\test_configurations.py -> build\\lib.win-amd64-3.9\\fasttext\\tests\n",
      "  copying python\\fasttext_module\\fasttext\\tests\\test_script.py -> build\\lib.win-amd64-3.9\\fasttext\\tests\n",
      "  copying python\\fasttext_module\\fasttext\\tests\\__init__.py -> build\\lib.win-amd64-3.9\\fasttext\\tests\n",
      "  running build_ext\n",
      "  building 'fasttext_pybind' extension\n",
      "  error: Microsoft Visual C++ 14.0 or greater is required. Get it with \"Microsoft C++ Build Tools\": https://visualstudio.microsoft.com/visual-cpp-build-tools/\n",
      "  ----------------------------------------\n",
      "  ERROR: Failed building wheel for fasttext\n",
      "    ERROR: Command errored out with exit status 1:\n",
      "     command: 'C:\\ProgramData\\Anaconda3\\python.exe' -u -c 'import io, os, sys, setuptools, tokenize; sys.argv[0] = '\"'\"'C:\\\\Windows\\\\Temp\\\\pip-install-5z_34s41\\\\fasttext_bcbff0f44a2846c18f1512b6279690bc\\\\setup.py'\"'\"'; __file__='\"'\"'C:\\\\Windows\\\\Temp\\\\pip-install-5z_34s41\\\\fasttext_bcbff0f44a2846c18f1512b6279690bc\\\\setup.py'\"'\"';f = getattr(tokenize, '\"'\"'open'\"'\"', open)(__file__) if os.path.exists(__file__) else io.StringIO('\"'\"'from setuptools import setup; setup()'\"'\"');code = f.read().replace('\"'\"'\\r\\n'\"'\"', '\"'\"'\\n'\"'\"');f.close();exec(compile(code, __file__, '\"'\"'exec'\"'\"'))' install --record 'C:\\Windows\\Temp\\pip-record-71ksm5aq\\install-record.txt' --single-version-externally-managed --user --prefix= --compile --install-headers 'C:\\Users\\USER\\AppData\\Roaming\\Python\\Python39\\Include\\fasttext'\n",
      "         cwd: C:\\Windows\\Temp\\pip-install-5z_34s41\\fasttext_bcbff0f44a2846c18f1512b6279690bc\\\n",
      "    Complete output (22 lines):\n",
      "    C:\\ProgramData\\Anaconda3\\lib\\site-packages\\setuptools\\dist.py:757: UserWarning: Usage of dash-separated 'description-file' will not be supported in future versions. Please use the underscore name 'description_file' instead\n",
      "      warnings.warn(\n",
      "    running install\n",
      "    C:\\ProgramData\\Anaconda3\\lib\\site-packages\\setuptools\\command\\install.py:34: SetuptoolsDeprecationWarning: setup.py install is deprecated. Use build and pip and other standards-based tools.\n",
      "      warnings.warn(\n",
      "    running build\n",
      "    running build_py\n",
      "    creating build\n",
      "    creating build\\lib.win-amd64-3.9\n",
      "    creating build\\lib.win-amd64-3.9\\fasttext\n",
      "    copying python\\fasttext_module\\fasttext\\FastText.py -> build\\lib.win-amd64-3.9\\fasttext\n",
      "    copying python\\fasttext_module\\fasttext\\__init__.py -> build\\lib.win-amd64-3.9\\fasttext\n",
      "    creating build\\lib.win-amd64-3.9\\fasttext\\util\n",
      "    copying python\\fasttext_module\\fasttext\\util\\util.py -> build\\lib.win-amd64-3.9\\fasttext\\util\n",
      "    copying python\\fasttext_module\\fasttext\\util\\__init__.py -> build\\lib.win-amd64-3.9\\fasttext\\util\n",
      "    creating build\\lib.win-amd64-3.9\\fasttext\\tests\n",
      "    copying python\\fasttext_module\\fasttext\\tests\\test_configurations.py -> build\\lib.win-amd64-3.9\\fasttext\\tests\n",
      "    copying python\\fasttext_module\\fasttext\\tests\\test_script.py -> build\\lib.win-amd64-3.9\\fasttext\\tests\n",
      "    copying python\\fasttext_module\\fasttext\\tests\\__init__.py -> build\\lib.win-amd64-3.9\\fasttext\\tests\n",
      "    running build_ext\n",
      "    building 'fasttext_pybind' extension\n",
      "    error: Microsoft Visual C++ 14.0 or greater is required. Get it with \"Microsoft C++ Build Tools\": https://visualstudio.microsoft.com/visual-cpp-build-tools/\n",
      "    ----------------------------------------\n",
      "ERROR: Command errored out with exit status 1: 'C:\\ProgramData\\Anaconda3\\python.exe' -u -c 'import io, os, sys, setuptools, tokenize; sys.argv[0] = '\"'\"'C:\\\\Windows\\\\Temp\\\\pip-install-5z_34s41\\\\fasttext_bcbff0f44a2846c18f1512b6279690bc\\\\setup.py'\"'\"'; __file__='\"'\"'C:\\\\Windows\\\\Temp\\\\pip-install-5z_34s41\\\\fasttext_bcbff0f44a2846c18f1512b6279690bc\\\\setup.py'\"'\"';f = getattr(tokenize, '\"'\"'open'\"'\"', open)(__file__) if os.path.exists(__file__) else io.StringIO('\"'\"'from setuptools import setup; setup()'\"'\"');code = f.read().replace('\"'\"'\\r\\n'\"'\"', '\"'\"'\\n'\"'\"');f.close();exec(compile(code, __file__, '\"'\"'exec'\"'\"'))' install --record 'C:\\Windows\\Temp\\pip-record-71ksm5aq\\install-record.txt' --single-version-externally-managed --user --prefix= --compile --install-headers 'C:\\Users\\USER\\AppData\\Roaming\\Python\\Python39\\Include\\fasttext' Check the logs for full command output.\n"
     ]
    }
   ],
   "source": [
    "pip install fasttext"
   ]
  },
  {
   "cell_type": "code",
   "execution_count": 3,
   "id": "2f3e15fe",
   "metadata": {},
   "outputs": [],
   "source": [
    "data=pd.read_pickle('final-2.pkl')"
   ]
  },
  {
   "cell_type": "code",
   "execution_count": 4,
   "id": "8f0a9b81",
   "metadata": {},
   "outputs": [
    {
     "data": {
      "text/html": [
       "<div>\n",
       "<style scoped>\n",
       "    .dataframe tbody tr th:only-of-type {\n",
       "        vertical-align: middle;\n",
       "    }\n",
       "\n",
       "    .dataframe tbody tr th {\n",
       "        vertical-align: top;\n",
       "    }\n",
       "\n",
       "    .dataframe thead th {\n",
       "        text-align: right;\n",
       "    }\n",
       "</style>\n",
       "<table border=\"1\" class=\"dataframe\">\n",
       "  <thead>\n",
       "    <tr style=\"text-align: right;\">\n",
       "      <th></th>\n",
       "      <th>order_id</th>\n",
       "      <th>customer_id</th>\n",
       "      <th>order_status</th>\n",
       "      <th>order_purchase_timestamp</th>\n",
       "      <th>order_approved_at</th>\n",
       "      <th>order_delivered_customer_date</th>\n",
       "      <th>order_estimated_delivery_date</th>\n",
       "      <th>order_item_id</th>\n",
       "      <th>product_id</th>\n",
       "      <th>seller_id</th>\n",
       "      <th>...</th>\n",
       "      <th>product_category_name_english</th>\n",
       "      <th>customer_unique_id</th>\n",
       "      <th>customer_zip_code_prefix</th>\n",
       "      <th>customer_city</th>\n",
       "      <th>customer_state</th>\n",
       "      <th>payment_sequential</th>\n",
       "      <th>payment_type</th>\n",
       "      <th>payment_installments</th>\n",
       "      <th>payment_value</th>\n",
       "      <th>review_score_new</th>\n",
       "    </tr>\n",
       "  </thead>\n",
       "  <tbody>\n",
       "    <tr>\n",
       "      <th>0</th>\n",
       "      <td>e481f51cbdc54678b7cc49136f2d6af7</td>\n",
       "      <td>9ef432eb6251297304e76186b10a928d</td>\n",
       "      <td>delivered</td>\n",
       "      <td>2017-10-02 10:56:33</td>\n",
       "      <td>2017-10-02 11:07:15</td>\n",
       "      <td>2017-10-10 21:25:13</td>\n",
       "      <td>2017-10-18</td>\n",
       "      <td>1</td>\n",
       "      <td>87285b34884572647811a353c7ac498a</td>\n",
       "      <td>3504c0cb71d7fa48d967e0e4c94d59d9</td>\n",
       "      <td>...</td>\n",
       "      <td>housewares</td>\n",
       "      <td>7c396fd4830fd04220f754e42b4e5bff</td>\n",
       "      <td>3149</td>\n",
       "      <td>sao paulo</td>\n",
       "      <td>SP</td>\n",
       "      <td>1</td>\n",
       "      <td>credit_card</td>\n",
       "      <td>1</td>\n",
       "      <td>18.12</td>\n",
       "      <td>1</td>\n",
       "    </tr>\n",
       "    <tr>\n",
       "      <th>3</th>\n",
       "      <td>128e10d95713541c87cd1a2e48201934</td>\n",
       "      <td>a20e8105f23924cd00833fd87daa0831</td>\n",
       "      <td>delivered</td>\n",
       "      <td>2017-08-15 18:29:31</td>\n",
       "      <td>2017-08-15 20:05:16</td>\n",
       "      <td>2017-08-18 14:44:43</td>\n",
       "      <td>2017-08-28</td>\n",
       "      <td>1</td>\n",
       "      <td>87285b34884572647811a353c7ac498a</td>\n",
       "      <td>3504c0cb71d7fa48d967e0e4c94d59d9</td>\n",
       "      <td>...</td>\n",
       "      <td>housewares</td>\n",
       "      <td>3a51803cc0d012c3b5dc8b7528cb05f7</td>\n",
       "      <td>3366</td>\n",
       "      <td>sao paulo</td>\n",
       "      <td>SP</td>\n",
       "      <td>1</td>\n",
       "      <td>credit_card</td>\n",
       "      <td>3</td>\n",
       "      <td>37.77</td>\n",
       "      <td>1</td>\n",
       "    </tr>\n",
       "    <tr>\n",
       "      <th>4</th>\n",
       "      <td>0e7e841ddf8f8f2de2bad69267ecfbcf</td>\n",
       "      <td>26c7ac168e1433912a51b924fbd34d34</td>\n",
       "      <td>delivered</td>\n",
       "      <td>2017-08-02 18:24:47</td>\n",
       "      <td>2017-08-02 18:43:15</td>\n",
       "      <td>2017-08-07 18:30:01</td>\n",
       "      <td>2017-08-15</td>\n",
       "      <td>1</td>\n",
       "      <td>87285b34884572647811a353c7ac498a</td>\n",
       "      <td>3504c0cb71d7fa48d967e0e4c94d59d9</td>\n",
       "      <td>...</td>\n",
       "      <td>housewares</td>\n",
       "      <td>ef0996a1a279c26e7ecbd737be23d235</td>\n",
       "      <td>2290</td>\n",
       "      <td>sao paulo</td>\n",
       "      <td>SP</td>\n",
       "      <td>1</td>\n",
       "      <td>credit_card</td>\n",
       "      <td>1</td>\n",
       "      <td>37.77</td>\n",
       "      <td>1</td>\n",
       "    </tr>\n",
       "    <tr>\n",
       "      <th>5</th>\n",
       "      <td>bfc39df4f36c3693ff3b63fcbea9e90a</td>\n",
       "      <td>53904ddbea91e1e92b2b3f1d09a7af86</td>\n",
       "      <td>delivered</td>\n",
       "      <td>2017-10-23 23:26:46</td>\n",
       "      <td>2017-10-25 02:14:11</td>\n",
       "      <td>2017-11-07 18:04:59</td>\n",
       "      <td>2017-11-13</td>\n",
       "      <td>1</td>\n",
       "      <td>87285b34884572647811a353c7ac498a</td>\n",
       "      <td>3504c0cb71d7fa48d967e0e4c94d59d9</td>\n",
       "      <td>...</td>\n",
       "      <td>housewares</td>\n",
       "      <td>e781fdcc107d13d865fc7698711cc572</td>\n",
       "      <td>88032</td>\n",
       "      <td>florianopolis</td>\n",
       "      <td>SC</td>\n",
       "      <td>1</td>\n",
       "      <td>boleto</td>\n",
       "      <td>1</td>\n",
       "      <td>44.09</td>\n",
       "      <td>1</td>\n",
       "    </tr>\n",
       "    <tr>\n",
       "      <th>6</th>\n",
       "      <td>5f49f31e537f8f1a496454b48edbe34d</td>\n",
       "      <td>a7260a6ccba78544ccfaf43f920b7240</td>\n",
       "      <td>delivered</td>\n",
       "      <td>2017-08-24 11:31:28</td>\n",
       "      <td>2017-08-24 11:45:25</td>\n",
       "      <td>2017-08-28 20:12:20</td>\n",
       "      <td>2017-09-14</td>\n",
       "      <td>2</td>\n",
       "      <td>be03d93320192443b8fa24c0ca6ead98</td>\n",
       "      <td>3504c0cb71d7fa48d967e0e4c94d59d9</td>\n",
       "      <td>...</td>\n",
       "      <td>housewares</td>\n",
       "      <td>7a1de9bde89aedca8c5fbad489c5571c</td>\n",
       "      <td>1315</td>\n",
       "      <td>sao paulo</td>\n",
       "      <td>SP</td>\n",
       "      <td>1</td>\n",
       "      <td>credit_card</td>\n",
       "      <td>1</td>\n",
       "      <td>127.45</td>\n",
       "      <td>0</td>\n",
       "    </tr>\n",
       "  </tbody>\n",
       "</table>\n",
       "<p>5 rows × 40 columns</p>\n",
       "</div>"
      ],
      "text/plain": [
       "                           order_id                       customer_id  \\\n",
       "0  e481f51cbdc54678b7cc49136f2d6af7  9ef432eb6251297304e76186b10a928d   \n",
       "3  128e10d95713541c87cd1a2e48201934  a20e8105f23924cd00833fd87daa0831   \n",
       "4  0e7e841ddf8f8f2de2bad69267ecfbcf  26c7ac168e1433912a51b924fbd34d34   \n",
       "5  bfc39df4f36c3693ff3b63fcbea9e90a  53904ddbea91e1e92b2b3f1d09a7af86   \n",
       "6  5f49f31e537f8f1a496454b48edbe34d  a7260a6ccba78544ccfaf43f920b7240   \n",
       "\n",
       "  order_status order_purchase_timestamp   order_approved_at  \\\n",
       "0    delivered      2017-10-02 10:56:33 2017-10-02 11:07:15   \n",
       "3    delivered      2017-08-15 18:29:31 2017-08-15 20:05:16   \n",
       "4    delivered      2017-08-02 18:24:47 2017-08-02 18:43:15   \n",
       "5    delivered      2017-10-23 23:26:46 2017-10-25 02:14:11   \n",
       "6    delivered      2017-08-24 11:31:28 2017-08-24 11:45:25   \n",
       "\n",
       "  order_delivered_customer_date order_estimated_delivery_date  order_item_id  \\\n",
       "0           2017-10-10 21:25:13                    2017-10-18              1   \n",
       "3           2017-08-18 14:44:43                    2017-08-28              1   \n",
       "4           2017-08-07 18:30:01                    2017-08-15              1   \n",
       "5           2017-11-07 18:04:59                    2017-11-13              1   \n",
       "6           2017-08-28 20:12:20                    2017-09-14              2   \n",
       "\n",
       "                         product_id                         seller_id  ...  \\\n",
       "0  87285b34884572647811a353c7ac498a  3504c0cb71d7fa48d967e0e4c94d59d9  ...   \n",
       "3  87285b34884572647811a353c7ac498a  3504c0cb71d7fa48d967e0e4c94d59d9  ...   \n",
       "4  87285b34884572647811a353c7ac498a  3504c0cb71d7fa48d967e0e4c94d59d9  ...   \n",
       "5  87285b34884572647811a353c7ac498a  3504c0cb71d7fa48d967e0e4c94d59d9  ...   \n",
       "6  be03d93320192443b8fa24c0ca6ead98  3504c0cb71d7fa48d967e0e4c94d59d9  ...   \n",
       "\n",
       "  product_category_name_english                customer_unique_id  \\\n",
       "0                    housewares  7c396fd4830fd04220f754e42b4e5bff   \n",
       "3                    housewares  3a51803cc0d012c3b5dc8b7528cb05f7   \n",
       "4                    housewares  ef0996a1a279c26e7ecbd737be23d235   \n",
       "5                    housewares  e781fdcc107d13d865fc7698711cc572   \n",
       "6                    housewares  7a1de9bde89aedca8c5fbad489c5571c   \n",
       "\n",
       "   customer_zip_code_prefix  customer_city customer_state payment_sequential  \\\n",
       "0                      3149      sao paulo             SP                  1   \n",
       "3                      3366      sao paulo             SP                  1   \n",
       "4                      2290      sao paulo             SP                  1   \n",
       "5                     88032  florianopolis             SC                  1   \n",
       "6                      1315      sao paulo             SP                  1   \n",
       "\n",
       "  payment_type  payment_installments  payment_value  review_score_new  \n",
       "0  credit_card                     1          18.12                 1  \n",
       "3  credit_card                     3          37.77                 1  \n",
       "4  credit_card                     1          37.77                 1  \n",
       "5       boleto                     1          44.09                 1  \n",
       "6  credit_card                     1         127.45                 0  \n",
       "\n",
       "[5 rows x 40 columns]"
      ]
     },
     "execution_count": 4,
     "metadata": {},
     "output_type": "execute_result"
    }
   ],
   "source": [
    "data.head()"
   ]
  },
  {
   "cell_type": "code",
   "execution_count": 5,
   "id": "ce4044c5",
   "metadata": {},
   "outputs": [
    {
     "data": {
      "text/plain": [
       "Index(['order_id', 'customer_id', 'order_status', 'order_purchase_timestamp',\n",
       "       'order_approved_at', 'order_delivered_customer_date',\n",
       "       'order_estimated_delivery_date', 'order_item_id', 'product_id',\n",
       "       'seller_id', 'shipping_limit_date', 'price', 'freight_value',\n",
       "       'seller_zip_code_prefix', 'seller_city', 'seller_state',\n",
       "       'product_category_name', 'product_name_lenght',\n",
       "       'product_description_lenght', 'product_photos_qty', 'product_weight_g',\n",
       "       'product_length_cm', 'product_height_cm', 'product_width_cm',\n",
       "       'review_id', 'review_score', 'review_comment_title',\n",
       "       'review_comment_message', 'review_creation_date',\n",
       "       'review_answer_timestamp', 'product_category_name_english',\n",
       "       'customer_unique_id', 'customer_zip_code_prefix', 'customer_city',\n",
       "       'customer_state', 'payment_sequential', 'payment_type',\n",
       "       'payment_installments', 'payment_value', 'review_score_new'],\n",
       "      dtype='object')"
      ]
     },
     "execution_count": 5,
     "metadata": {},
     "output_type": "execute_result"
    }
   ],
   "source": [
    "data.columns"
   ]
  },
  {
   "cell_type": "code",
   "execution_count": 6,
   "id": "2d2518f9",
   "metadata": {},
   "outputs": [],
   "source": [
    "# Preprocessing the Review text"
   ]
  },
  {
   "cell_type": "code",
   "execution_count": 7,
   "id": "ba497514",
   "metadata": {},
   "outputs": [
    {
     "name": "stderr",
     "output_type": "stream",
     "text": [
      "[nltk_data] Downloading package stopwords to\n",
      "[nltk_data]     C:\\Users\\USER\\AppData\\Roaming\\nltk_data...\n",
      "[nltk_data]   Package stopwords is already up-to-date!\n",
      "[nltk_data] Downloading package rslp to\n",
      "[nltk_data]     C:\\Users\\USER\\AppData\\Roaming\\nltk_data...\n",
      "[nltk_data]   Package rslp is already up-to-date!\n"
     ]
    },
    {
     "data": {
      "text/plain": [
       "True"
      ]
     },
     "execution_count": 7,
     "metadata": {},
     "output_type": "execute_result"
    }
   ],
   "source": [
    "import nltk\n",
    "nltk.download('stopwords')\n",
    "from nltk.corpus import stopwords\n",
    "nltk.download('rslp')"
   ]
  },
  {
   "cell_type": "code",
   "execution_count": 8,
   "id": "f6fa4868",
   "metadata": {},
   "outputs": [],
   "source": [
    "stopwords_pt = stopwords.words('portuguese')"
   ]
  },
  {
   "cell_type": "code",
   "execution_count": 9,
   "id": "2da1a359",
   "metadata": {},
   "outputs": [],
   "source": [
    "stopwords_pt.remove('não')\n",
    "stopwords_pt.remove('nem')"
   ]
  },
  {
   "cell_type": "code",
   "execution_count": 10,
   "id": "25486bf4",
   "metadata": {},
   "outputs": [
    {
     "data": {
      "text/plain": [
       "0    Não testei o produto ainda, mas ele veio corre...\n",
       "3    Deveriam embalar melhor o produto. A caixa vei...\n",
       "4    Só achei ela pequena pra seis xícaras ,mais é ...\n",
       "5                                                  NaN\n",
       "6    Prezados que porcaria de atendimento ao client...\n",
       "Name: review_comment_message, dtype: object"
      ]
     },
     "execution_count": 10,
     "metadata": {},
     "output_type": "execute_result"
    }
   ],
   "source": [
    "data['review_comment_message'].head()"
   ]
  },
  {
   "cell_type": "code",
   "execution_count": 11,
   "id": "500aee7e",
   "metadata": {},
   "outputs": [],
   "source": [
    "data['review_comment_message'].fillna('nao_reveja',inplace=True)"
   ]
  },
  {
   "cell_type": "code",
   "execution_count": 12,
   "id": "04e5eaab",
   "metadata": {
    "scrolled": true
   },
   "outputs": [],
   "source": [
    "def preprocess_text(texts):\n",
    "    hyperlinks = 'http[s]?://(?:[a-zA-Z]|[0-9]|[$-_@.&+]|[!*\\(\\),]|(?:%[0-9a-fA-F][0-9a-fA-F]))+' # check for hyperlinks\n",
    "    dates = '([0-2][0-9]|(3)[0-1])(\\/|\\.)(((0)[0-9])|((1)[0-2]))(\\/|\\.)\\d{2,4}' # check for dates\n",
    "    currency_symbols = '[R]{0,1}\\$[ ]{0,}\\d+(,|\\.)\\d+' # check for currency symbols\n",
    "    preprocessed_text = []\n",
    "    stemmer = RSLPStemmer() # portugese nltk stemmer\n",
    "    for sent in tqdm(texts):\n",
    "        sent = re.sub(r\"[\\n\\t\\-\\\\\\/]\",\" \",sent)#removing the new line,tab  \n",
    "        sent = re.sub(hyperlinks, ' url ', sent) # replacing hyperlinks with 'url'\n",
    "        sent = re.sub(dates, ' ', sent) # removing dates\n",
    "        sent = re.sub(currency_symbols, ' dinheiro ', sent) # replacing currency symbols with 'dinheiro'\n",
    "        sent = re.sub('[0-9]+', ' numero ', sent) # removing digits\n",
    "        sent = re.sub('([nN][ãÃaA][oO]|[ñÑ]| [nN] )', ' negação ', sent) # replacing no with negative\n",
    "        sent = re.sub('\\W', ' ', sent) # removing extra whitespaces\n",
    "        sent = re.sub('\\s+', ' ', sent) # removing extra spaces\n",
    "        sent = ' '.join(e for e in sent.split() if e.lower() not in stopwords_pt) # removing stopwords\n",
    "        sent = ' '.join(stemmer.stem(e.lower()) for e in sent.split()) # stemming the words\n",
    "        preprocessed_text.append(sent.lower().strip())\n",
    "        \n",
    "    return preprocessed_text\n"
   ]
  },
  {
   "cell_type": "code",
   "execution_count": 13,
   "id": "d353f3a5",
   "metadata": {},
   "outputs": [
    {
     "name": "stderr",
     "output_type": "stream",
     "text": [
      "100%|██████████████████████████████████| 96516/96516 [00:40<00:00, 2401.25it/s]\n"
     ]
    }
   ],
   "source": [
    "processed_text = preprocess_text(data['review_comment_message'].values)"
   ]
  },
  {
   "cell_type": "code",
   "execution_count": 14,
   "id": "8bdba184",
   "metadata": {},
   "outputs": [],
   "source": [
    "data['review_comment_message']=processed_text"
   ]
  },
  {
   "cell_type": "code",
   "execution_count": 15,
   "id": "a332978a",
   "metadata": {},
   "outputs": [
    {
     "data": {
      "text/plain": [
       "0    neg test produt aind vei corret boa cond apen ...\n",
       "3    dev embal melhor produt caix vei tod amass vou...\n",
       "4                   ach pequen pra seil xíc bom produt\n",
       "5                                           neg _revej\n",
       "6    prez porc atend client neg conseg fal atend má...\n",
       "Name: review_comment_message, dtype: object"
      ]
     },
     "execution_count": 15,
     "metadata": {},
     "output_type": "execute_result"
    }
   ],
   "source": [
    "data['review_comment_message'].head()"
   ]
  },
  {
   "cell_type": "code",
   "execution_count": 16,
   "id": "32d30f04",
   "metadata": {},
   "outputs": [],
   "source": [
    "col= ['order_id',\n",
    " 'customer_id',\n",
    " 'order_purchase_timestamp',\n",
    " 'order_approved_at',\n",
    " 'order_delivered_customer_date',\n",
    " 'order_estimated_delivery_date',\n",
    "  'customer_unique_id',\n",
    " 'order_item_id',\n",
    " 'product_id',\n",
    " 'seller_id',\n",
    " 'shipping_limit_date',\n",
    " 'customer_city','customer_zip_code_prefix','product_category_name']"
   ]
  },
  {
   "cell_type": "code",
   "execution_count": 17,
   "id": "bf6f748a",
   "metadata": {},
   "outputs": [],
   "source": [
    "data.drop(columns=col,axis=1,inplace=True)"
   ]
  },
  {
   "cell_type": "code",
   "execution_count": 18,
   "id": "770b0aa5",
   "metadata": {},
   "outputs": [
    {
     "data": {
      "text/html": [
       "<div>\n",
       "<style scoped>\n",
       "    .dataframe tbody tr th:only-of-type {\n",
       "        vertical-align: middle;\n",
       "    }\n",
       "\n",
       "    .dataframe tbody tr th {\n",
       "        vertical-align: top;\n",
       "    }\n",
       "\n",
       "    .dataframe thead th {\n",
       "        text-align: right;\n",
       "    }\n",
       "</style>\n",
       "<table border=\"1\" class=\"dataframe\">\n",
       "  <thead>\n",
       "    <tr style=\"text-align: right;\">\n",
       "      <th></th>\n",
       "      <th>order_status</th>\n",
       "      <th>price</th>\n",
       "      <th>freight_value</th>\n",
       "      <th>seller_zip_code_prefix</th>\n",
       "      <th>seller_city</th>\n",
       "      <th>seller_state</th>\n",
       "      <th>product_name_lenght</th>\n",
       "      <th>product_description_lenght</th>\n",
       "      <th>product_photos_qty</th>\n",
       "      <th>product_weight_g</th>\n",
       "      <th>...</th>\n",
       "      <th>review_comment_message</th>\n",
       "      <th>review_creation_date</th>\n",
       "      <th>review_answer_timestamp</th>\n",
       "      <th>product_category_name_english</th>\n",
       "      <th>customer_state</th>\n",
       "      <th>payment_sequential</th>\n",
       "      <th>payment_type</th>\n",
       "      <th>payment_installments</th>\n",
       "      <th>payment_value</th>\n",
       "      <th>review_score_new</th>\n",
       "    </tr>\n",
       "  </thead>\n",
       "  <tbody>\n",
       "    <tr>\n",
       "      <th>0</th>\n",
       "      <td>delivered</td>\n",
       "      <td>29.99</td>\n",
       "      <td>8.72</td>\n",
       "      <td>9350</td>\n",
       "      <td>maua</td>\n",
       "      <td>SP</td>\n",
       "      <td>40.0</td>\n",
       "      <td>268.0</td>\n",
       "      <td>4.0</td>\n",
       "      <td>500.0</td>\n",
       "      <td>...</td>\n",
       "      <td>neg test produt aind vei corret boa cond apen ...</td>\n",
       "      <td>2017-10-11 00:00:00</td>\n",
       "      <td>2017-10-12 03:43:48</td>\n",
       "      <td>housewares</td>\n",
       "      <td>SP</td>\n",
       "      <td>1</td>\n",
       "      <td>credit_card</td>\n",
       "      <td>1</td>\n",
       "      <td>18.12</td>\n",
       "      <td>1</td>\n",
       "    </tr>\n",
       "    <tr>\n",
       "      <th>3</th>\n",
       "      <td>delivered</td>\n",
       "      <td>29.99</td>\n",
       "      <td>7.78</td>\n",
       "      <td>9350</td>\n",
       "      <td>maua</td>\n",
       "      <td>SP</td>\n",
       "      <td>40.0</td>\n",
       "      <td>268.0</td>\n",
       "      <td>4.0</td>\n",
       "      <td>500.0</td>\n",
       "      <td>...</td>\n",
       "      <td>dev embal melhor produt caix vei tod amass vou...</td>\n",
       "      <td>2017-08-19 00:00:00</td>\n",
       "      <td>2017-08-20 15:16:36</td>\n",
       "      <td>housewares</td>\n",
       "      <td>SP</td>\n",
       "      <td>1</td>\n",
       "      <td>credit_card</td>\n",
       "      <td>3</td>\n",
       "      <td>37.77</td>\n",
       "      <td>1</td>\n",
       "    </tr>\n",
       "    <tr>\n",
       "      <th>4</th>\n",
       "      <td>delivered</td>\n",
       "      <td>29.99</td>\n",
       "      <td>7.78</td>\n",
       "      <td>9350</td>\n",
       "      <td>maua</td>\n",
       "      <td>SP</td>\n",
       "      <td>40.0</td>\n",
       "      <td>268.0</td>\n",
       "      <td>4.0</td>\n",
       "      <td>500.0</td>\n",
       "      <td>...</td>\n",
       "      <td>ach pequen pra seil xíc bom produt</td>\n",
       "      <td>2017-08-08 00:00:00</td>\n",
       "      <td>2017-08-08 23:26:23</td>\n",
       "      <td>housewares</td>\n",
       "      <td>SP</td>\n",
       "      <td>1</td>\n",
       "      <td>credit_card</td>\n",
       "      <td>1</td>\n",
       "      <td>37.77</td>\n",
       "      <td>1</td>\n",
       "    </tr>\n",
       "    <tr>\n",
       "      <th>5</th>\n",
       "      <td>delivered</td>\n",
       "      <td>29.99</td>\n",
       "      <td>14.10</td>\n",
       "      <td>9350</td>\n",
       "      <td>maua</td>\n",
       "      <td>SP</td>\n",
       "      <td>40.0</td>\n",
       "      <td>268.0</td>\n",
       "      <td>4.0</td>\n",
       "      <td>500.0</td>\n",
       "      <td>...</td>\n",
       "      <td>neg _revej</td>\n",
       "      <td>2017-11-08 00:00:00</td>\n",
       "      <td>2017-11-10 19:52:38</td>\n",
       "      <td>housewares</td>\n",
       "      <td>SC</td>\n",
       "      <td>1</td>\n",
       "      <td>boleto</td>\n",
       "      <td>1</td>\n",
       "      <td>44.09</td>\n",
       "      <td>1</td>\n",
       "    </tr>\n",
       "    <tr>\n",
       "      <th>6</th>\n",
       "      <td>delivered</td>\n",
       "      <td>46.80</td>\n",
       "      <td>67.70</td>\n",
       "      <td>9350</td>\n",
       "      <td>maua</td>\n",
       "      <td>SP</td>\n",
       "      <td>59.0</td>\n",
       "      <td>189.0</td>\n",
       "      <td>3.0</td>\n",
       "      <td>775.0</td>\n",
       "      <td>...</td>\n",
       "      <td>prez porc atend client neg conseg fal atend má...</td>\n",
       "      <td>2017-08-29 00:00:00</td>\n",
       "      <td>2017-08-30 02:26:02</td>\n",
       "      <td>housewares</td>\n",
       "      <td>SP</td>\n",
       "      <td>1</td>\n",
       "      <td>credit_card</td>\n",
       "      <td>1</td>\n",
       "      <td>127.45</td>\n",
       "      <td>0</td>\n",
       "    </tr>\n",
       "  </tbody>\n",
       "</table>\n",
       "<p>5 rows × 26 columns</p>\n",
       "</div>"
      ],
      "text/plain": [
       "  order_status  price  freight_value  seller_zip_code_prefix seller_city  \\\n",
       "0    delivered  29.99           8.72                    9350        maua   \n",
       "3    delivered  29.99           7.78                    9350        maua   \n",
       "4    delivered  29.99           7.78                    9350        maua   \n",
       "5    delivered  29.99          14.10                    9350        maua   \n",
       "6    delivered  46.80          67.70                    9350        maua   \n",
       "\n",
       "  seller_state  product_name_lenght  product_description_lenght  \\\n",
       "0           SP                 40.0                       268.0   \n",
       "3           SP                 40.0                       268.0   \n",
       "4           SP                 40.0                       268.0   \n",
       "5           SP                 40.0                       268.0   \n",
       "6           SP                 59.0                       189.0   \n",
       "\n",
       "   product_photos_qty  product_weight_g  ...  \\\n",
       "0                 4.0             500.0  ...   \n",
       "3                 4.0             500.0  ...   \n",
       "4                 4.0             500.0  ...   \n",
       "5                 4.0             500.0  ...   \n",
       "6                 3.0             775.0  ...   \n",
       "\n",
       "                              review_comment_message  review_creation_date  \\\n",
       "0  neg test produt aind vei corret boa cond apen ...   2017-10-11 00:00:00   \n",
       "3  dev embal melhor produt caix vei tod amass vou...   2017-08-19 00:00:00   \n",
       "4                 ach pequen pra seil xíc bom produt   2017-08-08 00:00:00   \n",
       "5                                         neg _revej   2017-11-08 00:00:00   \n",
       "6  prez porc atend client neg conseg fal atend má...   2017-08-29 00:00:00   \n",
       "\n",
       "   review_answer_timestamp product_category_name_english  customer_state  \\\n",
       "0      2017-10-12 03:43:48                    housewares              SP   \n",
       "3      2017-08-20 15:16:36                    housewares              SP   \n",
       "4      2017-08-08 23:26:23                    housewares              SP   \n",
       "5      2017-11-10 19:52:38                    housewares              SC   \n",
       "6      2017-08-30 02:26:02                    housewares              SP   \n",
       "\n",
       "  payment_sequential payment_type payment_installments payment_value  \\\n",
       "0                  1  credit_card                    1         18.12   \n",
       "3                  1  credit_card                    3         37.77   \n",
       "4                  1  credit_card                    1         37.77   \n",
       "5                  1       boleto                    1         44.09   \n",
       "6                  1  credit_card                    1        127.45   \n",
       "\n",
       "  review_score_new  \n",
       "0                1  \n",
       "3                1  \n",
       "4                1  \n",
       "5                1  \n",
       "6                0  \n",
       "\n",
       "[5 rows x 26 columns]"
      ]
     },
     "execution_count": 18,
     "metadata": {},
     "output_type": "execute_result"
    }
   ],
   "source": [
    "data.head()"
   ]
  },
  {
   "cell_type": "code",
   "execution_count": 19,
   "id": "31d0ef79",
   "metadata": {},
   "outputs": [],
   "source": [
    "## split data in to train and spilts\n",
    "\n",
    "y = data['review_score'].values\n",
    "x = data.drop(['review_score'],axis=1)"
   ]
  },
  {
   "cell_type": "code",
   "execution_count": 20,
   "id": "522b88a9",
   "metadata": {},
   "outputs": [],
   "source": [
    "# train test split\n",
    "from sklearn.model_selection import train_test_split\n",
    "X_train,X_test,Y_train,Y_test=train_test_split(x,y,test_size=0.2,random_state=25)"
   ]
  },
  {
   "cell_type": "code",
   "execution_count": 21,
   "id": "9c7c06e6",
   "metadata": {},
   "outputs": [
    {
     "name": "stdout",
     "output_type": "stream",
     "text": [
      "(77212, 25) (77212,)\n"
     ]
    }
   ],
   "source": [
    "print(X_train.shape , Y_train.shape)"
   ]
  },
  {
   "cell_type": "code",
   "execution_count": 22,
   "id": "e3b718d2",
   "metadata": {},
   "outputs": [
    {
     "name": "stdout",
     "output_type": "stream",
     "text": [
      "['approved', 'canceled', 'delivered', 'invoiced', 'processing', 'shipped', 'unavailable']\n"
     ]
    },
    {
     "name": "stderr",
     "output_type": "stream",
     "text": [
      "C:\\ProgramData\\Anaconda3\\lib\\site-packages\\sklearn\\utils\\deprecation.py:87: FutureWarning: Function get_feature_names is deprecated; get_feature_names is deprecated in 1.0 and will be removed in 1.2. Please use get_feature_names_out instead.\n",
      "  warnings.warn(msg, category=FutureWarning)\n"
     ]
    }
   ],
   "source": [
    "## Encodeing the cagtegorical featutres\n",
    "from sklearn.feature_extraction.text import CountVectorizer\n",
    "\n",
    "count_vec = CountVectorizer(binary=True)\n",
    "count_vec.fit(X_train['order_status'].values)\n",
    "\n",
    "# Counter-vecctorizer converts text to vector\n",
    "\n",
    "order_st_train=count_vec.transform(X_train['order_status'].values)\n",
    "order_st_test= count_vec.transform(X_test['order_status'].values)\n",
    "\n",
    "name_os=count_vec.get_feature_names()\n",
    "print(name_os)"
   ]
  },
  {
   "cell_type": "code",
   "execution_count": 23,
   "id": "4bf64009",
   "metadata": {},
   "outputs": [],
   "source": [
    "# Encoding Categorical _featues :Payment_type"
   ]
  },
  {
   "cell_type": "code",
   "execution_count": 24,
   "id": "e692cfdb",
   "metadata": {},
   "outputs": [
    {
     "name": "stdout",
     "output_type": "stream",
     "text": [
      "['boleto', 'credit_card', 'debit_card', 'voucher']\n"
     ]
    }
   ],
   "source": [
    "vectorizer=CountVectorizer(binary=True)\n",
    "vectorizer.fit(X_train['payment_type'].values)\n",
    "\n",
    "pay_train = vectorizer.transform(X_train['payment_type'].values)\n",
    "pay_test = vectorizer.transform(X_test['payment_type'].values)\n",
    "\n",
    "name_py_type = vectorizer.get_feature_names()\n",
    "print(name_py_type)"
   ]
  },
  {
   "cell_type": "code",
   "execution_count": 25,
   "id": "f9dcccb6",
   "metadata": {},
   "outputs": [],
   "source": [
    "# Encoding categorical _feature : product category_name_english"
   ]
  },
  {
   "cell_type": "code",
   "execution_count": 26,
   "id": "8df45dfe",
   "metadata": {},
   "outputs": [
    {
     "name": "stdout",
     "output_type": "stream",
     "text": [
      "['agro_industry_and_commerce', 'air_conditioning', 'art', 'arts_and_craftmanship', 'audio', 'auto', 'baby', 'bed_bath_table', 'books_general_interest', 'books_imported', 'books_technical', 'cds_dvds_musicals', 'christmas_supplies', 'cine_photo', 'computers', 'computers_accessories', 'consoles_games', 'construction_tools_construction', 'construction_tools_lights', 'construction_tools_safety', 'cool_stuff', 'costruction_tools_garden', 'costruction_tools_tools', 'diapers_and_hygiene', 'drinks', 'dvds_blu_ray', 'electronics', 'fashio_female_clothing', 'fashion_bags_accessories', 'fashion_childrens_clothes', 'fashion_male_clothing', 'fashion_shoes', 'fashion_sport', 'fashion_underwear_beach', 'fixed_telephony', 'flowers', 'food', 'food_drink', 'furniture_bedroom', 'furniture_decor', 'furniture_living_room', 'furniture_mattress_and_upholstery', 'garden_tools', 'health_beauty', 'home_appliances', 'home_appliances_2', 'home_comfort_2', 'home_confort', 'home_construction', 'housewares', 'industry_commerce_and_business', 'kitchen_dining_laundry_garden_furniture', 'la_cuisine', 'luggage_accessories', 'market_place', 'music', 'musical_instruments', 'office_furniture', 'party_supplies', 'perfumery', 'pet_shop', 'security_and_services', 'signaling_and_security', 'small_appliances', 'small_appliances_home_oven_and_coffee', 'sports_leisure', 'stationery', 'tablets_printing_image', 'telephony', 'toys', 'watches_gifts']\n"
     ]
    }
   ],
   "source": [
    "vectorizer=CountVectorizer(binary=True)\n",
    "\n",
    "vectorizer.fit(X_train['product_category_name_english'].values)\n",
    "\n",
    "pro_train = vectorizer.transform(X_train['product_category_name_english'].values)\n",
    "pro_test = vectorizer.transform(X_test['product_category_name_english'].values)\n",
    "\n",
    "\n",
    "pro_type = vectorizer.get_feature_names()\n",
    "print(pro_type)"
   ]
  },
  {
   "cell_type": "code",
   "execution_count": 27,
   "id": "f31f6eba",
   "metadata": {},
   "outputs": [],
   "source": [
    "# Encoding categorical_features : customer_state"
   ]
  },
  {
   "cell_type": "code",
   "execution_count": 28,
   "id": "e168454d",
   "metadata": {},
   "outputs": [
    {
     "name": "stdout",
     "output_type": "stream",
     "text": [
      "['ac', 'al', 'am', 'ap', 'ba', 'ce', 'df', 'es', 'go', 'ma', 'mg', 'ms', 'mt', 'pa', 'pb', 'pe', 'pi', 'pr', 'rj', 'rn', 'ro', 'rr', 'rs', 'sc', 'se', 'sp', 'to']\n"
     ]
    }
   ],
   "source": [
    "vectorizer=CountVectorizer(binary=True)\n",
    "\n",
    "vectorizer.fit(X_train['customer_state'].values)\n",
    "\n",
    "cus_st_train = vectorizer.transform(X_train['customer_state'].values)\n",
    "cus_st_test = vectorizer.transform(X_test['customer_state'].values)\n",
    "\n",
    "\n",
    "cus_st_type = vectorizer.get_feature_names()\n",
    "print(cus_st_type)"
   ]
  },
  {
   "cell_type": "code",
   "execution_count": 6,
   "id": "f7e75da3",
   "metadata": {},
   "outputs": [],
   "source": [
    "# Normalizing the numerical features"
   ]
  },
  {
   "cell_type": "code",
   "execution_count": 72,
   "id": "a5b47fd1",
   "metadata": {},
   "outputs": [],
   "source": [
    "from sklearn.preprocessing import Normalizer\n",
    "def normalizer(col):\n",
    "    normalizer = Normalizer()\n",
    "    normalizer.fit(X_train[col].values.reshape(-1,1))\n",
    "    X_train_norm=normalizer.transform(X_train[col].values.reshape(-1,1))\n",
    "    X_test_norm=normalizer.transform(X_test[col].values.reshape(-1,1))\n",
    "    \n",
    "    return X_train_norm , X_test_norm"
   ]
  },
  {
   "cell_type": "code",
   "execution_count": 73,
   "id": "360c1d8a",
   "metadata": {},
   "outputs": [],
   "source": [
    "num_featues=[num for num in data.columns if data[num].dtypes != 'O' and num not in ['review_score','review_score_new'] ]"
   ]
  },
  {
   "cell_type": "code",
   "execution_count": 74,
   "id": "0cdbb8bd",
   "metadata": {},
   "outputs": [
    {
     "data": {
      "text/plain": [
       "['price',\n",
       " 'freight_value',\n",
       " 'seller_zip_code_prefix',\n",
       " 'product_name_lenght',\n",
       " 'product_description_lenght',\n",
       " 'product_photos_qty',\n",
       " 'product_weight_g',\n",
       " 'product_length_cm',\n",
       " 'product_height_cm',\n",
       " 'product_width_cm',\n",
       " 'payment_sequential',\n",
       " 'payment_installments',\n",
       " 'payment_value']"
      ]
     },
     "execution_count": 74,
     "metadata": {},
     "output_type": "execute_result"
    }
   ],
   "source": [
    "num_featues"
   ]
  },
  {
   "cell_type": "code",
   "execution_count": 75,
   "id": "950f22de",
   "metadata": {},
   "outputs": [],
   "source": [
    "train=[]\n",
    "test=[]\n",
    "for i in num_featues :\n",
    "    a,b=normalizer(i)\n",
    "    train.append(a)\n",
    "    test.append(b)"
   ]
  },
  {
   "cell_type": "code",
   "execution_count": 76,
   "id": "e34a747a",
   "metadata": {},
   "outputs": [
    {
     "name": "stdout",
     "output_type": "stream",
     "text": [
      "Final data matrix\n",
      "(77212, 13) (77212,)\n",
      "(19304, 13) (19304,)\n"
     ]
    }
   ],
   "source": [
    "from scipy.sparse import hstack , csr_matrix\n",
    "import numpy as np\n",
    "\n",
    "X_train_num = np.hstack((train))\n",
    "X_test_num = np.hstack((test))\n",
    "\n",
    "print('Final data matrix')\n",
    "print(X_train_num.shape, Y_train.shape)\n",
    "print(X_test_num.shape , Y_test.shape)"
   ]
  },
  {
   "cell_type": "code",
   "execution_count": null,
   "id": "e303b67d",
   "metadata": {},
   "outputs": [],
   "source": [
    "# merge"
   ]
  }
 ],
 "metadata": {
  "kernelspec": {
   "display_name": "Python 3 (ipykernel)",
   "language": "python",
   "name": "python3"
  },
  "language_info": {
   "codemirror_mode": {
    "name": "ipython",
    "version": 3
   },
   "file_extension": ".py",
   "mimetype": "text/x-python",
   "name": "python",
   "nbconvert_exporter": "python",
   "pygments_lexer": "ipython3",
   "version": "3.9.12"
  }
 },
 "nbformat": 4,
 "nbformat_minor": 5
}
