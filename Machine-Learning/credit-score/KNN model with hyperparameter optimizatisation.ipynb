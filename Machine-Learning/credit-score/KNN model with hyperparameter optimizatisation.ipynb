{
 "cells": [
  {
   "cell_type": "code",
   "execution_count": 15,
   "id": "b8951000",
   "metadata": {},
   "outputs": [],
   "source": [
    "import pandas as pd\n",
    "import matplotlib.pyplot as plt\n",
    "import numpy as np\n",
    "\n",
    "from sklearn.model_selection import train_test_split\n",
    "from sklearn.preprocessing import StandardScaler\n",
    "from sklearn.neighbors import KNeighborsClassifier\n",
    "from sklearn.metrics import accuracy_score\n",
    "from sklearn.model_selection import GridSearchCV\n",
    "from sklearn.model_selection import cross_val_score\n",
    "\n",
    "import pickle"
   ]
  },
  {
   "cell_type": "code",
   "execution_count": 2,
   "id": "43909fcd",
   "metadata": {},
   "outputs": [],
   "source": [
    "data=pd.read_csv('credit_train_data.csv')"
   ]
  },
  {
   "cell_type": "code",
   "execution_count": 3,
   "id": "a76d3329",
   "metadata": {},
   "outputs": [
    {
     "data": {
      "text/html": [
       "<div>\n",
       "<style scoped>\n",
       "    .dataframe tbody tr th:only-of-type {\n",
       "        vertical-align: middle;\n",
       "    }\n",
       "\n",
       "    .dataframe tbody tr th {\n",
       "        vertical-align: top;\n",
       "    }\n",
       "\n",
       "    .dataframe thead th {\n",
       "        text-align: right;\n",
       "    }\n",
       "</style>\n",
       "<table border=\"1\" class=\"dataframe\">\n",
       "  <thead>\n",
       "    <tr style=\"text-align: right;\">\n",
       "      <th></th>\n",
       "      <th>Unnamed: 0</th>\n",
       "      <th>0</th>\n",
       "      <th>1</th>\n",
       "      <th>2</th>\n",
       "      <th>3</th>\n",
       "      <th>4</th>\n",
       "      <th>5</th>\n",
       "      <th>6</th>\n",
       "      <th>7</th>\n",
       "      <th>8</th>\n",
       "      <th>9</th>\n",
       "      <th>Credit_Score</th>\n",
       "    </tr>\n",
       "  </thead>\n",
       "  <tbody>\n",
       "    <tr>\n",
       "      <th>0</th>\n",
       "      <td>0</td>\n",
       "      <td>0.272727</td>\n",
       "      <td>0.363636</td>\n",
       "      <td>0.060606</td>\n",
       "      <td>0.111111</td>\n",
       "      <td>0.067568</td>\n",
       "      <td>0.486842</td>\n",
       "      <td>0.081633</td>\n",
       "      <td>1.0</td>\n",
       "      <td>0.655087</td>\n",
       "      <td>1.0</td>\n",
       "      <td>0</td>\n",
       "    </tr>\n",
       "    <tr>\n",
       "      <th>1</th>\n",
       "      <td>1</td>\n",
       "      <td>0.272727</td>\n",
       "      <td>0.363636</td>\n",
       "      <td>0.060606</td>\n",
       "      <td>0.055556</td>\n",
       "      <td>0.047297</td>\n",
       "      <td>0.486842</td>\n",
       "      <td>0.081633</td>\n",
       "      <td>1.0</td>\n",
       "      <td>0.655087</td>\n",
       "      <td>1.0</td>\n",
       "      <td>0</td>\n",
       "    </tr>\n",
       "    <tr>\n",
       "      <th>2</th>\n",
       "      <td>2</td>\n",
       "      <td>0.272727</td>\n",
       "      <td>0.363636</td>\n",
       "      <td>0.060606</td>\n",
       "      <td>0.111111</td>\n",
       "      <td>0.067568</td>\n",
       "      <td>0.486842</td>\n",
       "      <td>0.081633</td>\n",
       "      <td>1.0</td>\n",
       "      <td>0.660050</td>\n",
       "      <td>1.0</td>\n",
       "      <td>0</td>\n",
       "    </tr>\n",
       "    <tr>\n",
       "      <th>3</th>\n",
       "      <td>3</td>\n",
       "      <td>0.272727</td>\n",
       "      <td>0.363636</td>\n",
       "      <td>0.060606</td>\n",
       "      <td>0.138889</td>\n",
       "      <td>0.047297</td>\n",
       "      <td>0.349781</td>\n",
       "      <td>0.081633</td>\n",
       "      <td>1.0</td>\n",
       "      <td>0.662531</td>\n",
       "      <td>1.0</td>\n",
       "      <td>0</td>\n",
       "    </tr>\n",
       "    <tr>\n",
       "      <th>4</th>\n",
       "      <td>4</td>\n",
       "      <td>0.272727</td>\n",
       "      <td>0.363636</td>\n",
       "      <td>0.060606</td>\n",
       "      <td>0.152778</td>\n",
       "      <td>0.047297</td>\n",
       "      <td>0.486842</td>\n",
       "      <td>0.081633</td>\n",
       "      <td>1.0</td>\n",
       "      <td>0.665012</td>\n",
       "      <td>1.0</td>\n",
       "      <td>0</td>\n",
       "    </tr>\n",
       "  </tbody>\n",
       "</table>\n",
       "</div>"
      ],
      "text/plain": [
       "   Unnamed: 0         0         1         2         3         4         5  \\\n",
       "0           0  0.272727  0.363636  0.060606  0.111111  0.067568  0.486842   \n",
       "1           1  0.272727  0.363636  0.060606  0.055556  0.047297  0.486842   \n",
       "2           2  0.272727  0.363636  0.060606  0.111111  0.067568  0.486842   \n",
       "3           3  0.272727  0.363636  0.060606  0.138889  0.047297  0.349781   \n",
       "4           4  0.272727  0.363636  0.060606  0.152778  0.047297  0.486842   \n",
       "\n",
       "          6    7         8    9  Credit_Score  \n",
       "0  0.081633  1.0  0.655087  1.0             0  \n",
       "1  0.081633  1.0  0.655087  1.0             0  \n",
       "2  0.081633  1.0  0.660050  1.0             0  \n",
       "3  0.081633  1.0  0.662531  1.0             0  \n",
       "4  0.081633  1.0  0.665012  1.0             0  "
      ]
     },
     "execution_count": 3,
     "metadata": {},
     "output_type": "execute_result"
    }
   ],
   "source": [
    "data.head()"
   ]
  },
  {
   "cell_type": "code",
   "execution_count": 4,
   "id": "22d84378",
   "metadata": {},
   "outputs": [],
   "source": [
    "data=data.drop('Unnamed: 0',axis=1)"
   ]
  },
  {
   "cell_type": "code",
   "execution_count": 5,
   "id": "703fcfc9",
   "metadata": {},
   "outputs": [],
   "source": [
    "## Splits the data in to dependend and independed variables\n",
    "\n",
    "Y=data.iloc[:,-1]\n",
    "X=data.iloc[:,:-1]"
   ]
  },
  {
   "cell_type": "code",
   "execution_count": 6,
   "id": "feaee79d",
   "metadata": {},
   "outputs": [],
   "source": [
    "sc=StandardScaler()\n",
    "x=sc.fit_transform(X)\n",
    "x=pd.DataFrame(x)"
   ]
  },
  {
   "cell_type": "code",
   "execution_count": 7,
   "id": "b601e161",
   "metadata": {},
   "outputs": [],
   "source": [
    "X_train,X_test,Y_train,Y_test=train_test_split(x,Y,test_size=0.2,random_state=121)"
   ]
  },
  {
   "cell_type": "code",
   "execution_count": 8,
   "id": "e28db905",
   "metadata": {},
   "outputs": [],
   "source": [
    "knn=KNeighborsClassifier()"
   ]
  },
  {
   "cell_type": "code",
   "execution_count": 9,
   "id": "41dbc084",
   "metadata": {},
   "outputs": [
    {
     "data": {
      "text/plain": [
       "array([0.99809139, 0.87241984, 0.8665809 , 0.83747102, 0.82942657,\n",
       "       0.81615111, 0.80769666, 0.79794153, 0.79022225, 0.78254538,\n",
       "       0.77503817, 0.77085336, 0.76481649, 0.75988237, 0.75572584,\n",
       "       0.75409998, 0.75203585, 0.74869932, 0.74783691, 0.74567381])"
      ]
     },
     "execution_count": 9,
     "metadata": {},
     "output_type": "execute_result"
    }
   ],
   "source": [
    "## finding the best k value\n",
    "\n",
    "mean_accu=np.zeros(20)\n",
    "\n",
    "for i in range (1,21):\n",
    "    knn=KNeighborsClassifier(n_neighbors=i).fit(X_train,Y_train)\n",
    "    y_pred=knn.predict(X_train)\n",
    "    mean_accu[i-1]=accuracy_score(Y_train,y_pred)\n",
    "    \n",
    "mean_accu"
   ]
  },
  {
   "cell_type": "code",
   "execution_count": 10,
   "id": "18e1bd03",
   "metadata": {},
   "outputs": [
    {
     "data": {
      "image/png": "[encoded data removed]",
      "text/plain": [
       "<Figure size 720x432 with 1 Axes>"
      ]
     },
     "metadata": {
      "needs_background": "light"
     },
     "output_type": "display_data"
    }
   ],
   "source": [
    "loc = np.arange(1,21,step=1.0)\n",
    "plt.figure(figsize = (10, 6))\n",
    "plt.plot(range(1,21), mean_accu)\n",
    "plt.xticks(loc)\n",
    "plt.xlabel('Number of Neighbors ')\n",
    "plt.ylabel('Accuracy')\n",
    "plt.show()"
   ]
  },
  {
   "cell_type": "code",
   "execution_count": 11,
   "id": "71aa81b9",
   "metadata": {},
   "outputs": [],
   "source": [
    "grid_params = { 'n_neighbors' : [1,2,3,4,5,6,7,8],\n",
    "               'weights' : ['uniform','distance'],\n",
    "               'metric' : ['minkowski','euclidean','manhattan']}"
   ]
  },
  {
   "cell_type": "code",
   "execution_count": 12,
   "id": "cd97bae2",
   "metadata": {},
   "outputs": [
    {
     "name": "stdout",
     "output_type": "stream",
     "text": [
      "Fitting 3 folds for each of 48 candidates, totalling 144 fits\n"
     ]
    },
    {
     "data": {
      "text/plain": [
       "0.7629785804820998"
      ]
     },
     "execution_count": 12,
     "metadata": {},
     "output_type": "execute_result"
    }
   ],
   "source": [
    "gs=GridSearchCV(KNeighborsClassifier(),grid_params,verbose=1,cv=3,n_jobs=-1)\n",
    "\n",
    "g_res=gs.fit(X_train,Y_train)\n",
    "g_res.best_score_\n"
   ]
  },
  {
   "cell_type": "code",
   "execution_count": 13,
   "id": "a26a2aa4",
   "metadata": {},
   "outputs": [
    {
     "data": {
      "text/plain": [
       "{'metric': 'manhattan', 'n_neighbors': 8, 'weights': 'distance'}"
      ]
     },
     "execution_count": 13,
     "metadata": {},
     "output_type": "execute_result"
    }
   ],
   "source": [
    "g_res.best_params_"
   ]
  },
  {
   "cell_type": "code",
   "execution_count": 14,
   "id": "7fc88faa",
   "metadata": {},
   "outputs": [
    {
     "name": "stdout",
     "output_type": "stream",
     "text": [
      "Accuracy score of training data : 0.9981903523157836\n",
      "Accuracy score of test data : 0.7797444017190681\n"
     ]
    }
   ],
   "source": [
    "knn=KNeighborsClassifier(metric= 'manhattan', n_neighbors= 8, weights= 'distance')\n",
    "\n",
    "knn.fit(X_train,Y_train)\n",
    "y_pred=knn.predict(X_train)\n",
    "y_pred_test=knn.predict(X_test)\n",
    "\n",
    "print('Accuracy score of training data :',accuracy_score(Y_train,y_pred))\n",
    "print('Accuracy score of test data :',accuracy_score(Y_test,y_pred_test))\n"
   ]
  },
  {
   "cell_type": "code",
   "execution_count": 16,
   "id": "c7f11fad",
   "metadata": {},
   "outputs": [],
   "source": [
    "pickle.dump(knn,open('model.pkl','wb'))"
   ]
  },
  {
   "cell_type": "code",
   "execution_count": null,
   "id": "eed91358",
   "metadata": {},
   "outputs": [],
   "source": []
  }
 ],
 "metadata": {
  "kernelspec": {
   "display_name": "Python 3 (ipykernel)",
   "language": "python",
   "name": "python3"
  },
  "language_info": {
   "codemirror_mode": {
    "name": "ipython",
    "version": 3
   },
   "file_extension": ".py",
   "mimetype": "text/x-python",
   "name": "python",
   "nbconvert_exporter": "python",
   "pygments_lexer": "ipython3",
   "version": "3.9.12"
  }
 },
 "nbformat": 4,
 "nbformat_minor": 5
}
