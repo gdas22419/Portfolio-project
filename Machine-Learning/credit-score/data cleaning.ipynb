{
 "cells": [
  {
   "cell_type": "code",
   "execution_count": 1,
   "id": "ed8d8d84",
   "metadata": {},
   "outputs": [],
   "source": [
    "import pandas as pd\n",
    "import numpy as np\n",
    "import matplotlib.pyplot as plt\n",
    "import seaborn as sns\n",
    "\n",
    "pd.set_option('display.max_columns',None)\n",
    "\n"
   ]
  },
  {
   "cell_type": "code",
   "execution_count": 2,
   "id": "d2d0cfcb",
   "metadata": {},
   "outputs": [
    {
     "name": "stderr",
     "output_type": "stream",
     "text": [
      "C:\\Users\\USER\\AppData\\Local\\Temp\\ipykernel_5804\\2307144634.py:1: DtypeWarning: Columns (26) have mixed types. Specify dtype option on import or set low_memory=False.\n",
      "  data=pd.read_csv('train.csv')\n"
     ]
    }
   ],
   "source": [
    "data=pd.read_csv('train.csv')\n"
   ]
  },
  {
   "cell_type": "code",
   "execution_count": 3,
   "id": "7212ba14",
   "metadata": {},
   "outputs": [
    {
     "data": {
      "text/plain": [
       "(100000, 28)"
      ]
     },
     "execution_count": 3,
     "metadata": {},
     "output_type": "execute_result"
    }
   ],
   "source": [
    "data.shape"
   ]
  },
  {
   "cell_type": "code",
   "execution_count": 4,
   "id": "1172a694",
   "metadata": {},
   "outputs": [
    {
     "data": {
      "text/plain": [
       "ID                              0\n",
       "Customer_ID                     0\n",
       "Month                           0\n",
       "Name                         9985\n",
       "Age                             0\n",
       "SSN                             0\n",
       "Occupation                      0\n",
       "Annual_Income                   0\n",
       "Monthly_Inhand_Salary       15002\n",
       "Num_Bank_Accounts               0\n",
       "Num_Credit_Card                 0\n",
       "Interest_Rate                   0\n",
       "Num_of_Loan                     0\n",
       "Type_of_Loan                11408\n",
       "Delay_from_due_date             0\n",
       "Num_of_Delayed_Payment       7002\n",
       "Changed_Credit_Limit            0\n",
       "Num_Credit_Inquiries         1965\n",
       "Credit_Mix                      0\n",
       "Outstanding_Debt                0\n",
       "Credit_Utilization_Ratio        0\n",
       "Credit_History_Age           9030\n",
       "Payment_of_Min_Amount           0\n",
       "Total_EMI_per_month             0\n",
       "Amount_invested_monthly      4479\n",
       "Payment_Behaviour               0\n",
       "Monthly_Balance              1200\n",
       "Credit_Score                    0\n",
       "dtype: int64"
      ]
     },
     "execution_count": 4,
     "metadata": {},
     "output_type": "execute_result"
    }
   ],
   "source": [
    "data.isnull().sum()"
   ]
  },
  {
   "cell_type": "code",
   "execution_count": null,
   "id": "e22a0f91",
   "metadata": {},
   "outputs": [],
   "source": []
  },
  {
   "cell_type": "markdown",
   "id": "8c9715b2",
   "metadata": {},
   "source": [
    "# Data cleaning and split in to categorical and numerical"
   ]
  },
  {
   "cell_type": "code",
   "execution_count": 5,
   "id": "9b3ae0b9",
   "metadata": {},
   "outputs": [
    {
     "name": "stdout",
     "output_type": "stream",
     "text": [
      "<class 'pandas.core.frame.DataFrame'>\n",
      "RangeIndex: 100000 entries, 0 to 99999\n",
      "Data columns (total 20 columns):\n",
      " #   Column                   Non-Null Count   Dtype \n",
      "---  ------                   --------------   ----- \n",
      " 0   ID                       100000 non-null  object\n",
      " 1   Customer_ID              100000 non-null  object\n",
      " 2   Month                    100000 non-null  object\n",
      " 3   Name                     90015 non-null   object\n",
      " 4   Age                      100000 non-null  object\n",
      " 5   SSN                      100000 non-null  object\n",
      " 6   Occupation               100000 non-null  object\n",
      " 7   Annual_Income            100000 non-null  object\n",
      " 8   Num_of_Loan              100000 non-null  object\n",
      " 9   Type_of_Loan             88592 non-null   object\n",
      " 10  Num_of_Delayed_Payment   92998 non-null   object\n",
      " 11  Changed_Credit_Limit     100000 non-null  object\n",
      " 12  Credit_Mix               100000 non-null  object\n",
      " 13  Outstanding_Debt         100000 non-null  object\n",
      " 14  Credit_History_Age       90970 non-null   object\n",
      " 15  Payment_of_Min_Amount    100000 non-null  object\n",
      " 16  Amount_invested_monthly  95521 non-null   object\n",
      " 17  Payment_Behaviour        100000 non-null  object\n",
      " 18  Monthly_Balance          98800 non-null   object\n",
      " 19  Credit_Score             100000 non-null  object\n",
      "dtypes: object(20)\n",
      "memory usage: 15.3+ MB\n"
     ]
    }
   ],
   "source": [
    "categorical_data=data[data.columns[data.dtypes=='O']]\n",
    "categorical_data.info()"
   ]
  },
  {
   "cell_type": "code",
   "execution_count": 6,
   "id": "1e006be7",
   "metadata": {},
   "outputs": [
    {
     "data": {
      "text/html": [
       "<div>\n",
       "<style scoped>\n",
       "    .dataframe tbody tr th:only-of-type {\n",
       "        vertical-align: middle;\n",
       "    }\n",
       "\n",
       "    .dataframe tbody tr th {\n",
       "        vertical-align: top;\n",
       "    }\n",
       "\n",
       "    .dataframe thead th {\n",
       "        text-align: right;\n",
       "    }\n",
       "</style>\n",
       "<table border=\"1\" class=\"dataframe\">\n",
       "  <thead>\n",
       "    <tr style=\"text-align: right;\">\n",
       "      <th></th>\n",
       "      <th>ID</th>\n",
       "      <th>Customer_ID</th>\n",
       "      <th>Month</th>\n",
       "      <th>Name</th>\n",
       "      <th>Age</th>\n",
       "      <th>SSN</th>\n",
       "      <th>Occupation</th>\n",
       "      <th>Annual_Income</th>\n",
       "      <th>Num_of_Loan</th>\n",
       "      <th>Type_of_Loan</th>\n",
       "      <th>Num_of_Delayed_Payment</th>\n",
       "      <th>Changed_Credit_Limit</th>\n",
       "      <th>Credit_Mix</th>\n",
       "      <th>Outstanding_Debt</th>\n",
       "      <th>Credit_History_Age</th>\n",
       "      <th>Payment_of_Min_Amount</th>\n",
       "      <th>Amount_invested_monthly</th>\n",
       "      <th>Payment_Behaviour</th>\n",
       "      <th>Monthly_Balance</th>\n",
       "      <th>Credit_Score</th>\n",
       "    </tr>\n",
       "  </thead>\n",
       "  <tbody>\n",
       "    <tr>\n",
       "      <th>0</th>\n",
       "      <td>0x1602</td>\n",
       "      <td>CUS_0xd40</td>\n",
       "      <td>January</td>\n",
       "      <td>Aaron Maashoh</td>\n",
       "      <td>23</td>\n",
       "      <td>821-00-0265</td>\n",
       "      <td>Scientist</td>\n",
       "      <td>19114.12</td>\n",
       "      <td>4</td>\n",
       "      <td>Auto Loan, Credit-Builder Loan, Personal Loan,...</td>\n",
       "      <td>7</td>\n",
       "      <td>11.27</td>\n",
       "      <td>_</td>\n",
       "      <td>809.98</td>\n",
       "      <td>22 Years and 1 Months</td>\n",
       "      <td>No</td>\n",
       "      <td>80.41529543900253</td>\n",
       "      <td>High_spent_Small_value_payments</td>\n",
       "      <td>312.49408867943663</td>\n",
       "      <td>Good</td>\n",
       "    </tr>\n",
       "    <tr>\n",
       "      <th>1</th>\n",
       "      <td>0x1603</td>\n",
       "      <td>CUS_0xd40</td>\n",
       "      <td>February</td>\n",
       "      <td>Aaron Maashoh</td>\n",
       "      <td>23</td>\n",
       "      <td>821-00-0265</td>\n",
       "      <td>Scientist</td>\n",
       "      <td>19114.12</td>\n",
       "      <td>4</td>\n",
       "      <td>Auto Loan, Credit-Builder Loan, Personal Loan,...</td>\n",
       "      <td>NaN</td>\n",
       "      <td>11.27</td>\n",
       "      <td>Good</td>\n",
       "      <td>809.98</td>\n",
       "      <td>NaN</td>\n",
       "      <td>No</td>\n",
       "      <td>118.28022162236736</td>\n",
       "      <td>Low_spent_Large_value_payments</td>\n",
       "      <td>284.62916249607184</td>\n",
       "      <td>Good</td>\n",
       "    </tr>\n",
       "    <tr>\n",
       "      <th>2</th>\n",
       "      <td>0x1604</td>\n",
       "      <td>CUS_0xd40</td>\n",
       "      <td>March</td>\n",
       "      <td>Aaron Maashoh</td>\n",
       "      <td>-500</td>\n",
       "      <td>821-00-0265</td>\n",
       "      <td>Scientist</td>\n",
       "      <td>19114.12</td>\n",
       "      <td>4</td>\n",
       "      <td>Auto Loan, Credit-Builder Loan, Personal Loan,...</td>\n",
       "      <td>7</td>\n",
       "      <td>_</td>\n",
       "      <td>Good</td>\n",
       "      <td>809.98</td>\n",
       "      <td>22 Years and 3 Months</td>\n",
       "      <td>No</td>\n",
       "      <td>81.699521264648</td>\n",
       "      <td>Low_spent_Medium_value_payments</td>\n",
       "      <td>331.2098628537912</td>\n",
       "      <td>Good</td>\n",
       "    </tr>\n",
       "    <tr>\n",
       "      <th>3</th>\n",
       "      <td>0x1605</td>\n",
       "      <td>CUS_0xd40</td>\n",
       "      <td>April</td>\n",
       "      <td>Aaron Maashoh</td>\n",
       "      <td>23</td>\n",
       "      <td>821-00-0265</td>\n",
       "      <td>Scientist</td>\n",
       "      <td>19114.12</td>\n",
       "      <td>4</td>\n",
       "      <td>Auto Loan, Credit-Builder Loan, Personal Loan,...</td>\n",
       "      <td>4</td>\n",
       "      <td>6.27</td>\n",
       "      <td>Good</td>\n",
       "      <td>809.98</td>\n",
       "      <td>22 Years and 4 Months</td>\n",
       "      <td>No</td>\n",
       "      <td>199.4580743910713</td>\n",
       "      <td>Low_spent_Small_value_payments</td>\n",
       "      <td>223.45130972736786</td>\n",
       "      <td>Good</td>\n",
       "    </tr>\n",
       "    <tr>\n",
       "      <th>4</th>\n",
       "      <td>0x1606</td>\n",
       "      <td>CUS_0xd40</td>\n",
       "      <td>May</td>\n",
       "      <td>Aaron Maashoh</td>\n",
       "      <td>23</td>\n",
       "      <td>821-00-0265</td>\n",
       "      <td>Scientist</td>\n",
       "      <td>19114.12</td>\n",
       "      <td>4</td>\n",
       "      <td>Auto Loan, Credit-Builder Loan, Personal Loan,...</td>\n",
       "      <td>NaN</td>\n",
       "      <td>11.27</td>\n",
       "      <td>Good</td>\n",
       "      <td>809.98</td>\n",
       "      <td>22 Years and 5 Months</td>\n",
       "      <td>No</td>\n",
       "      <td>41.420153086217326</td>\n",
       "      <td>High_spent_Medium_value_payments</td>\n",
       "      <td>341.48923103222177</td>\n",
       "      <td>Good</td>\n",
       "    </tr>\n",
       "  </tbody>\n",
       "</table>\n",
       "</div>"
      ],
      "text/plain": [
       "       ID Customer_ID     Month           Name   Age          SSN Occupation  \\\n",
       "0  0x1602   CUS_0xd40   January  Aaron Maashoh    23  821-00-0265  Scientist   \n",
       "1  0x1603   CUS_0xd40  February  Aaron Maashoh    23  821-00-0265  Scientist   \n",
       "2  0x1604   CUS_0xd40     March  Aaron Maashoh  -500  821-00-0265  Scientist   \n",
       "3  0x1605   CUS_0xd40     April  Aaron Maashoh    23  821-00-0265  Scientist   \n",
       "4  0x1606   CUS_0xd40       May  Aaron Maashoh    23  821-00-0265  Scientist   \n",
       "\n",
       "  Annual_Income Num_of_Loan  \\\n",
       "0      19114.12           4   \n",
       "1      19114.12           4   \n",
       "2      19114.12           4   \n",
       "3      19114.12           4   \n",
       "4      19114.12           4   \n",
       "\n",
       "                                        Type_of_Loan Num_of_Delayed_Payment  \\\n",
       "0  Auto Loan, Credit-Builder Loan, Personal Loan,...                      7   \n",
       "1  Auto Loan, Credit-Builder Loan, Personal Loan,...                    NaN   \n",
       "2  Auto Loan, Credit-Builder Loan, Personal Loan,...                      7   \n",
       "3  Auto Loan, Credit-Builder Loan, Personal Loan,...                      4   \n",
       "4  Auto Loan, Credit-Builder Loan, Personal Loan,...                    NaN   \n",
       "\n",
       "  Changed_Credit_Limit Credit_Mix Outstanding_Debt     Credit_History_Age  \\\n",
       "0                11.27          _           809.98  22 Years and 1 Months   \n",
       "1                11.27       Good           809.98                    NaN   \n",
       "2                    _       Good           809.98  22 Years and 3 Months   \n",
       "3                 6.27       Good           809.98  22 Years and 4 Months   \n",
       "4                11.27       Good           809.98  22 Years and 5 Months   \n",
       "\n",
       "  Payment_of_Min_Amount Amount_invested_monthly  \\\n",
       "0                    No       80.41529543900253   \n",
       "1                    No      118.28022162236736   \n",
       "2                    No         81.699521264648   \n",
       "3                    No       199.4580743910713   \n",
       "4                    No      41.420153086217326   \n",
       "\n",
       "                  Payment_Behaviour     Monthly_Balance Credit_Score  \n",
       "0   High_spent_Small_value_payments  312.49408867943663         Good  \n",
       "1    Low_spent_Large_value_payments  284.62916249607184         Good  \n",
       "2   Low_spent_Medium_value_payments   331.2098628537912         Good  \n",
       "3    Low_spent_Small_value_payments  223.45130972736786         Good  \n",
       "4  High_spent_Medium_value_payments  341.48923103222177         Good  "
      ]
     },
     "execution_count": 6,
     "metadata": {},
     "output_type": "execute_result"
    }
   ],
   "source": [
    "categorical_data.head()"
   ]
  },
  {
   "cell_type": "code",
   "execution_count": 7,
   "id": "014176cb",
   "metadata": {},
   "outputs": [],
   "source": [
    "data= data.applymap(lambda x:x if x is np.NaN or not isinstance(x,str) else str(x).strip('_,\"')).replace(['','nan','!@9#%8','#F%$D@*&8'],np.NaN)"
   ]
  },
  {
   "cell_type": "code",
   "execution_count": 8,
   "id": "762c1907",
   "metadata": {},
   "outputs": [],
   "source": [
    "data['Annual_Income']=data['Annual_Income'].astype(float)\n",
    "data['Changed_Credit_Limit']=data['Changed_Credit_Limit'].astype(float)\n",
    "data['Outstanding_Debt']=data['Outstanding_Debt'].astype(float)\n",
    "data['Amount_invested_monthly']=data['Amount_invested_monthly'].astype(float)\n",
    "data['Monthly_Balance']=data['Monthly_Balance'].astype(float)\n",
    "data['Num_of_Delayed_Payment']=data['Num_of_Delayed_Payment'].astype(float)\n",
    "data['Num_of_Loan']=data['Num_of_Loan'].astype(int)\n",
    "data['Age']=data['Age'].astype(int)"
   ]
  },
  {
   "cell_type": "code",
   "execution_count": 9,
   "id": "563dd9ef",
   "metadata": {},
   "outputs": [],
   "source": [
    "def month(x):\n",
    "    if pd.notnull(x):\n",
    "        num1=int(x.split(' ')[0])\n",
    "        num2=int(x.split(' ')[3])\n",
    "        \n",
    "        return num1*12+num2\n",
    "        \n",
    "    else :\n",
    "        return x"
   ]
  },
  {
   "cell_type": "code",
   "execution_count": 10,
   "id": "3cd992a7",
   "metadata": {},
   "outputs": [],
   "source": [
    "data['Credit_History_Age']=data['Credit_History_Age'].apply(lambda x: month(x)).astype(float)\n",
    "data['SSN']=data['SSN'].apply(lambda x: x if x is np.NaN else float(str(x).replace('-', ''))).astype(float)"
   ]
  },
  {
   "cell_type": "code",
   "execution_count": 11,
   "id": "45947bcb",
   "metadata": {},
   "outputs": [
    {
     "data": {
      "text/html": [
       "<div>\n",
       "<style scoped>\n",
       "    .dataframe tbody tr th:only-of-type {\n",
       "        vertical-align: middle;\n",
       "    }\n",
       "\n",
       "    .dataframe tbody tr th {\n",
       "        vertical-align: top;\n",
       "    }\n",
       "\n",
       "    .dataframe thead th {\n",
       "        text-align: right;\n",
       "    }\n",
       "</style>\n",
       "<table border=\"1\" class=\"dataframe\">\n",
       "  <thead>\n",
       "    <tr style=\"text-align: right;\">\n",
       "      <th></th>\n",
       "      <th>ID</th>\n",
       "      <th>Customer_ID</th>\n",
       "      <th>Month</th>\n",
       "      <th>Name</th>\n",
       "      <th>Occupation</th>\n",
       "      <th>Type_of_Loan</th>\n",
       "      <th>Credit_Mix</th>\n",
       "      <th>Payment_of_Min_Amount</th>\n",
       "      <th>Payment_Behaviour</th>\n",
       "      <th>Credit_Score</th>\n",
       "    </tr>\n",
       "  </thead>\n",
       "  <tbody>\n",
       "    <tr>\n",
       "      <th>0</th>\n",
       "      <td>0x1602</td>\n",
       "      <td>CUS_0xd40</td>\n",
       "      <td>January</td>\n",
       "      <td>Aaron Maashoh</td>\n",
       "      <td>Scientist</td>\n",
       "      <td>Auto Loan, Credit-Builder Loan, Personal Loan,...</td>\n",
       "      <td>NaN</td>\n",
       "      <td>No</td>\n",
       "      <td>High_spent_Small_value_payments</td>\n",
       "      <td>Good</td>\n",
       "    </tr>\n",
       "    <tr>\n",
       "      <th>1</th>\n",
       "      <td>0x1603</td>\n",
       "      <td>CUS_0xd40</td>\n",
       "      <td>February</td>\n",
       "      <td>Aaron Maashoh</td>\n",
       "      <td>Scientist</td>\n",
       "      <td>Auto Loan, Credit-Builder Loan, Personal Loan,...</td>\n",
       "      <td>Good</td>\n",
       "      <td>No</td>\n",
       "      <td>Low_spent_Large_value_payments</td>\n",
       "      <td>Good</td>\n",
       "    </tr>\n",
       "    <tr>\n",
       "      <th>2</th>\n",
       "      <td>0x1604</td>\n",
       "      <td>CUS_0xd40</td>\n",
       "      <td>March</td>\n",
       "      <td>Aaron Maashoh</td>\n",
       "      <td>Scientist</td>\n",
       "      <td>Auto Loan, Credit-Builder Loan, Personal Loan,...</td>\n",
       "      <td>Good</td>\n",
       "      <td>No</td>\n",
       "      <td>Low_spent_Medium_value_payments</td>\n",
       "      <td>Good</td>\n",
       "    </tr>\n",
       "    <tr>\n",
       "      <th>3</th>\n",
       "      <td>0x1605</td>\n",
       "      <td>CUS_0xd40</td>\n",
       "      <td>April</td>\n",
       "      <td>Aaron Maashoh</td>\n",
       "      <td>Scientist</td>\n",
       "      <td>Auto Loan, Credit-Builder Loan, Personal Loan,...</td>\n",
       "      <td>Good</td>\n",
       "      <td>No</td>\n",
       "      <td>Low_spent_Small_value_payments</td>\n",
       "      <td>Good</td>\n",
       "    </tr>\n",
       "    <tr>\n",
       "      <th>4</th>\n",
       "      <td>0x1606</td>\n",
       "      <td>CUS_0xd40</td>\n",
       "      <td>May</td>\n",
       "      <td>Aaron Maashoh</td>\n",
       "      <td>Scientist</td>\n",
       "      <td>Auto Loan, Credit-Builder Loan, Personal Loan,...</td>\n",
       "      <td>Good</td>\n",
       "      <td>No</td>\n",
       "      <td>High_spent_Medium_value_payments</td>\n",
       "      <td>Good</td>\n",
       "    </tr>\n",
       "  </tbody>\n",
       "</table>\n",
       "</div>"
      ],
      "text/plain": [
       "       ID Customer_ID     Month           Name Occupation  \\\n",
       "0  0x1602   CUS_0xd40   January  Aaron Maashoh  Scientist   \n",
       "1  0x1603   CUS_0xd40  February  Aaron Maashoh  Scientist   \n",
       "2  0x1604   CUS_0xd40     March  Aaron Maashoh  Scientist   \n",
       "3  0x1605   CUS_0xd40     April  Aaron Maashoh  Scientist   \n",
       "4  0x1606   CUS_0xd40       May  Aaron Maashoh  Scientist   \n",
       "\n",
       "                                        Type_of_Loan Credit_Mix  \\\n",
       "0  Auto Loan, Credit-Builder Loan, Personal Loan,...        NaN   \n",
       "1  Auto Loan, Credit-Builder Loan, Personal Loan,...       Good   \n",
       "2  Auto Loan, Credit-Builder Loan, Personal Loan,...       Good   \n",
       "3  Auto Loan, Credit-Builder Loan, Personal Loan,...       Good   \n",
       "4  Auto Loan, Credit-Builder Loan, Personal Loan,...       Good   \n",
       "\n",
       "  Payment_of_Min_Amount                 Payment_Behaviour Credit_Score  \n",
       "0                    No   High_spent_Small_value_payments         Good  \n",
       "1                    No    Low_spent_Large_value_payments         Good  \n",
       "2                    No   Low_spent_Medium_value_payments         Good  \n",
       "3                    No    Low_spent_Small_value_payments         Good  \n",
       "4                    No  High_spent_Medium_value_payments         Good  "
      ]
     },
     "execution_count": 11,
     "metadata": {},
     "output_type": "execute_result"
    }
   ],
   "source": [
    "cat_data=data[data.select_dtypes(include='O').columns]\n",
    "cat_data.head()"
   ]
  },
  {
   "cell_type": "code",
   "execution_count": 12,
   "id": "9e1d3f28",
   "metadata": {},
   "outputs": [
    {
     "data": {
      "text/html": [
       "<div>\n",
       "<style scoped>\n",
       "    .dataframe tbody tr th:only-of-type {\n",
       "        vertical-align: middle;\n",
       "    }\n",
       "\n",
       "    .dataframe tbody tr th {\n",
       "        vertical-align: top;\n",
       "    }\n",
       "\n",
       "    .dataframe thead th {\n",
       "        text-align: right;\n",
       "    }\n",
       "</style>\n",
       "<table border=\"1\" class=\"dataframe\">\n",
       "  <thead>\n",
       "    <tr style=\"text-align: right;\">\n",
       "      <th></th>\n",
       "      <th>Age</th>\n",
       "      <th>SSN</th>\n",
       "      <th>Annual_Income</th>\n",
       "      <th>Monthly_Inhand_Salary</th>\n",
       "      <th>Num_Bank_Accounts</th>\n",
       "      <th>Num_Credit_Card</th>\n",
       "      <th>Interest_Rate</th>\n",
       "      <th>Num_of_Loan</th>\n",
       "      <th>Delay_from_due_date</th>\n",
       "      <th>Num_of_Delayed_Payment</th>\n",
       "      <th>Changed_Credit_Limit</th>\n",
       "      <th>Num_Credit_Inquiries</th>\n",
       "      <th>Outstanding_Debt</th>\n",
       "      <th>Credit_Utilization_Ratio</th>\n",
       "      <th>Credit_History_Age</th>\n",
       "      <th>Total_EMI_per_month</th>\n",
       "      <th>Amount_invested_monthly</th>\n",
       "      <th>Monthly_Balance</th>\n",
       "    </tr>\n",
       "  </thead>\n",
       "  <tbody>\n",
       "    <tr>\n",
       "      <th>0</th>\n",
       "      <td>23</td>\n",
       "      <td>821000265.0</td>\n",
       "      <td>19114.12</td>\n",
       "      <td>1824.843333</td>\n",
       "      <td>3</td>\n",
       "      <td>4</td>\n",
       "      <td>3</td>\n",
       "      <td>4</td>\n",
       "      <td>3</td>\n",
       "      <td>7.0</td>\n",
       "      <td>11.27</td>\n",
       "      <td>4.0</td>\n",
       "      <td>809.98</td>\n",
       "      <td>26.822620</td>\n",
       "      <td>265.0</td>\n",
       "      <td>49.574949</td>\n",
       "      <td>80.415295</td>\n",
       "      <td>312.494089</td>\n",
       "    </tr>\n",
       "    <tr>\n",
       "      <th>1</th>\n",
       "      <td>23</td>\n",
       "      <td>821000265.0</td>\n",
       "      <td>19114.12</td>\n",
       "      <td>NaN</td>\n",
       "      <td>3</td>\n",
       "      <td>4</td>\n",
       "      <td>3</td>\n",
       "      <td>4</td>\n",
       "      <td>-1</td>\n",
       "      <td>NaN</td>\n",
       "      <td>11.27</td>\n",
       "      <td>4.0</td>\n",
       "      <td>809.98</td>\n",
       "      <td>31.944960</td>\n",
       "      <td>NaN</td>\n",
       "      <td>49.574949</td>\n",
       "      <td>118.280222</td>\n",
       "      <td>284.629162</td>\n",
       "    </tr>\n",
       "    <tr>\n",
       "      <th>2</th>\n",
       "      <td>-500</td>\n",
       "      <td>821000265.0</td>\n",
       "      <td>19114.12</td>\n",
       "      <td>NaN</td>\n",
       "      <td>3</td>\n",
       "      <td>4</td>\n",
       "      <td>3</td>\n",
       "      <td>4</td>\n",
       "      <td>3</td>\n",
       "      <td>7.0</td>\n",
       "      <td>NaN</td>\n",
       "      <td>4.0</td>\n",
       "      <td>809.98</td>\n",
       "      <td>28.609352</td>\n",
       "      <td>267.0</td>\n",
       "      <td>49.574949</td>\n",
       "      <td>81.699521</td>\n",
       "      <td>331.209863</td>\n",
       "    </tr>\n",
       "    <tr>\n",
       "      <th>3</th>\n",
       "      <td>23</td>\n",
       "      <td>821000265.0</td>\n",
       "      <td>19114.12</td>\n",
       "      <td>NaN</td>\n",
       "      <td>3</td>\n",
       "      <td>4</td>\n",
       "      <td>3</td>\n",
       "      <td>4</td>\n",
       "      <td>5</td>\n",
       "      <td>4.0</td>\n",
       "      <td>6.27</td>\n",
       "      <td>4.0</td>\n",
       "      <td>809.98</td>\n",
       "      <td>31.377862</td>\n",
       "      <td>268.0</td>\n",
       "      <td>49.574949</td>\n",
       "      <td>199.458074</td>\n",
       "      <td>223.451310</td>\n",
       "    </tr>\n",
       "    <tr>\n",
       "      <th>4</th>\n",
       "      <td>23</td>\n",
       "      <td>821000265.0</td>\n",
       "      <td>19114.12</td>\n",
       "      <td>1824.843333</td>\n",
       "      <td>3</td>\n",
       "      <td>4</td>\n",
       "      <td>3</td>\n",
       "      <td>4</td>\n",
       "      <td>6</td>\n",
       "      <td>NaN</td>\n",
       "      <td>11.27</td>\n",
       "      <td>4.0</td>\n",
       "      <td>809.98</td>\n",
       "      <td>24.797347</td>\n",
       "      <td>269.0</td>\n",
       "      <td>49.574949</td>\n",
       "      <td>41.420153</td>\n",
       "      <td>341.489231</td>\n",
       "    </tr>\n",
       "  </tbody>\n",
       "</table>\n",
       "</div>"
      ],
      "text/plain": [
       "   Age          SSN  Annual_Income  Monthly_Inhand_Salary  Num_Bank_Accounts  \\\n",
       "0   23  821000265.0       19114.12            1824.843333                  3   \n",
       "1   23  821000265.0       19114.12                    NaN                  3   \n",
       "2 -500  821000265.0       19114.12                    NaN                  3   \n",
       "3   23  821000265.0       19114.12                    NaN                  3   \n",
       "4   23  821000265.0       19114.12            1824.843333                  3   \n",
       "\n",
       "   Num_Credit_Card  Interest_Rate  Num_of_Loan  Delay_from_due_date  \\\n",
       "0                4              3            4                    3   \n",
       "1                4              3            4                   -1   \n",
       "2                4              3            4                    3   \n",
       "3                4              3            4                    5   \n",
       "4                4              3            4                    6   \n",
       "\n",
       "   Num_of_Delayed_Payment  Changed_Credit_Limit  Num_Credit_Inquiries  \\\n",
       "0                     7.0                 11.27                   4.0   \n",
       "1                     NaN                 11.27                   4.0   \n",
       "2                     7.0                   NaN                   4.0   \n",
       "3                     4.0                  6.27                   4.0   \n",
       "4                     NaN                 11.27                   4.0   \n",
       "\n",
       "   Outstanding_Debt  Credit_Utilization_Ratio  Credit_History_Age  \\\n",
       "0            809.98                 26.822620               265.0   \n",
       "1            809.98                 31.944960                 NaN   \n",
       "2            809.98                 28.609352               267.0   \n",
       "3            809.98                 31.377862               268.0   \n",
       "4            809.98                 24.797347               269.0   \n",
       "\n",
       "   Total_EMI_per_month  Amount_invested_monthly  Monthly_Balance  \n",
       "0            49.574949                80.415295       312.494089  \n",
       "1            49.574949               118.280222       284.629162  \n",
       "2            49.574949                81.699521       331.209863  \n",
       "3            49.574949               199.458074       223.451310  \n",
       "4            49.574949                41.420153       341.489231  "
      ]
     },
     "execution_count": 12,
     "metadata": {},
     "output_type": "execute_result"
    }
   ],
   "source": [
    "num_data=data[data.columns[data.dtypes!='O']]\n",
    "num_data.head()"
   ]
  },
  {
   "cell_type": "markdown",
   "id": "66356fe8",
   "metadata": {},
   "source": [
    "# Missing values "
   ]
  },
  {
   "cell_type": "code",
   "execution_count": 13,
   "id": "bee1f338",
   "metadata": {},
   "outputs": [
    {
     "data": {
      "text/plain": [
       "ID                              0\n",
       "Customer_ID                     0\n",
       "Month                           0\n",
       "Name                         9985\n",
       "Age                             0\n",
       "SSN                          5572\n",
       "Occupation                   7062\n",
       "Annual_Income                   0\n",
       "Monthly_Inhand_Salary       15002\n",
       "Num_Bank_Accounts               0\n",
       "Num_Credit_Card                 0\n",
       "Interest_Rate                   0\n",
       "Num_of_Loan                     0\n",
       "Type_of_Loan                11408\n",
       "Delay_from_due_date             0\n",
       "Num_of_Delayed_Payment       7002\n",
       "Changed_Credit_Limit         2091\n",
       "Num_Credit_Inquiries         1965\n",
       "Credit_Mix                  20195\n",
       "Outstanding_Debt                0\n",
       "Credit_Utilization_Ratio        0\n",
       "Credit_History_Age           9030\n",
       "Payment_of_Min_Amount           0\n",
       "Total_EMI_per_month             0\n",
       "Amount_invested_monthly      4479\n",
       "Payment_Behaviour            7600\n",
       "Monthly_Balance              1200\n",
       "Credit_Score                    0\n",
       "dtype: int64"
      ]
     },
     "execution_count": 13,
     "metadata": {},
     "output_type": "execute_result"
    }
   ],
   "source": [
    "data.isna().sum()"
   ]
  },
  {
   "cell_type": "code",
   "execution_count": 14,
   "id": "33ffbc5c",
   "metadata": {},
   "outputs": [],
   "source": [
    "def distribution(col,data,i):\n",
    "    fig,ax=plt.subplots(1,2,figsize=(15,5))\n",
    "    title=['Before Distribution','After Distribution']\n",
    "    ax=np.ravel(ax)\n",
    "    if i==1:\n",
    "        sns.set(style='whitegrid')\n",
    "        sns.kdeplot(data=data,x=col,ax=ax[0],color='#2171b5').set_title(title[i])\n",
    "        sns.boxplot(data=data,x=col,ax=ax[1],palette='magma').set_title(title[i])\n",
    "    else:\n",
    "        sns.set(style='whitegrid')\n",
    "        sns.kdeplot(data=data,x=col,ax=ax[0],color='#2171b5').set_title(title[i])\n",
    "        sns.boxplot(data=data,x=col,ax=ax[1],palette='magma').set_title(title[i])\n",
    "        \n",
    "        ax=np.reshape(ax,(1,2))\n",
    "        \n",
    "        plt.tight_layout()"
   ]
  },
  {
   "cell_type": "markdown",
   "id": "2d56eb35",
   "metadata": {},
   "source": [
    "### 1. Num of delayed payment:"
   ]
  },
  {
   "cell_type": "code",
   "execution_count": 15,
   "id": "a464c6b3",
   "metadata": {},
   "outputs": [
    {
     "data": {
      "image/png": "[encoded data removed]",
      "text/plain": [
       "<Figure size 1080x360 with 2 Axes>"
      ]
     },
     "metadata": {
      "needs_background": "light"
     },
     "output_type": "display_data"
    }
   ],
   "source": [
    "df=data.copy().reset_index()\n",
    "\n",
    "distribution(col='Num_of_Delayed_Payment',data=df,i=0)\n"
   ]
  },
  {
   "cell_type": "code",
   "execution_count": 16,
   "id": "fac271cd",
   "metadata": {},
   "outputs": [],
   "source": [
    "def get_num_of_delayed_payment(row):\n",
    "    if pd.isnull(row['Num_of_Delayed_Payment']):\n",
    "        Num_of_Delayed_Payement=(data[data['Customer_ID']==row['Customer_ID']]['Num_of_Delayed_Payment'].dropna()).mode()\n",
    "        \n",
    "        try:\n",
    "            return Num_of_Delayed_Payement[0]\n",
    "        except:\n",
    "            return np.Nan\n",
    "    \n",
    "    else:\n",
    "        return row['Num_of_Delayed_Payment']"
   ]
  },
  {
   "cell_type": "code",
   "execution_count": 17,
   "id": "cc20ffed",
   "metadata": {},
   "outputs": [],
   "source": [
    "data['Num_of_Delayed_Payment']=data.apply(get_num_of_delayed_payment,axis=1)"
   ]
  },
  {
   "cell_type": "code",
   "execution_count": 18,
   "id": "a33b6d97",
   "metadata": {},
   "outputs": [
    {
     "data": {
      "text/plain": [
       "0"
      ]
     },
     "execution_count": 18,
     "metadata": {},
     "output_type": "execute_result"
    }
   ],
   "source": [
    "data['Num_of_Delayed_Payment'].isnull().sum()"
   ]
  },
  {
   "cell_type": "code",
   "execution_count": 19,
   "id": "4d774c34",
   "metadata": {},
   "outputs": [],
   "source": [
    "data=data[data['Num_of_Delayed_Payment']<150]"
   ]
  },
  {
   "cell_type": "code",
   "execution_count": 20,
   "id": "efd91cbd",
   "metadata": {},
   "outputs": [
    {
     "data": {
      "image/png": "[encoded data removed]",
      "text/plain": [
       "<Figure size 1080x360 with 2 Axes>"
      ]
     },
     "metadata": {},
     "output_type": "display_data"
    }
   ],
   "source": [
    "distribution(col='Num_of_Delayed_Payment',data=df,i=1)"
   ]
  },
  {
   "cell_type": "markdown",
   "id": "b29f540c",
   "metadata": {},
   "source": [
    "### 02. Monthly_Inhand_Salary"
   ]
  },
  {
   "cell_type": "code",
   "execution_count": 21,
   "id": "dbd47b29",
   "metadata": {},
   "outputs": [
    {
     "data": {
      "image/png": "[encoded data removed]",
      "text/plain": [
       "<Figure size 1080x360 with 2 Axes>"
      ]
     },
     "metadata": {},
     "output_type": "display_data"
    }
   ],
   "source": [
    "distribution(col='Monthly_Inhand_Salary',data=df,i=0)"
   ]
  },
  {
   "cell_type": "code",
   "execution_count": 22,
   "id": "16ede766",
   "metadata": {},
   "outputs": [],
   "source": [
    "def get_Monthly_Inhand_Salary(row):\n",
    "    if pd.isnull(row['Monthly_Inhand_Salary']):\n",
    "        Monthly_Inhand_Salary=(data[data['Customer_ID']==row['Customer_ID']]['Monthly_Inhand_Salary'].dropna()).mode()\n",
    "        try:\n",
    "            return Monthly_Inhand_Salary[0]\n",
    "        except:\n",
    "            return np.NaN\n",
    "    else:\n",
    "        return row['Monthly_Inhand_Salary']"
   ]
  },
  {
   "cell_type": "code",
   "execution_count": 23,
   "id": "c6be1c5d",
   "metadata": {},
   "outputs": [],
   "source": [
    "data['Monthly_Inhand_Salary']=data.apply(get_Monthly_Inhand_Salary,axis=1)"
   ]
  },
  {
   "cell_type": "code",
   "execution_count": 24,
   "id": "0544d551",
   "metadata": {},
   "outputs": [
    {
     "data": {
      "text/plain": [
       "0"
      ]
     },
     "execution_count": 24,
     "metadata": {},
     "output_type": "execute_result"
    }
   ],
   "source": [
    "data['Monthly_Inhand_Salary'].isnull().sum()\n"
   ]
  },
  {
   "cell_type": "code",
   "execution_count": 25,
   "id": "b4161cdd",
   "metadata": {},
   "outputs": [
    {
     "data": {
      "text/plain": [
       "(98017, 28)"
      ]
     },
     "execution_count": 25,
     "metadata": {},
     "output_type": "execute_result"
    }
   ],
   "source": [
    "data=data[data.Monthly_Inhand_Salary<13500]\n",
    "data.shape"
   ]
  },
  {
   "cell_type": "code",
   "execution_count": 26,
   "id": "8d8e9748",
   "metadata": {},
   "outputs": [
    {
     "data": {
      "image/png": "[encoded data removed]",
      "text/plain": [
       "<Figure size 1080x360 with 2 Axes>"
      ]
     },
     "metadata": {},
     "output_type": "display_data"
    }
   ],
   "source": [
    "distribution(col='Monthly_Inhand_Salary',data=df,i=1)"
   ]
  },
  {
   "cell_type": "code",
   "execution_count": null,
   "id": "d8c90826",
   "metadata": {},
   "outputs": [],
   "source": []
  },
  {
   "cell_type": "code",
   "execution_count": null,
   "id": "15cb26bb",
   "metadata": {},
   "outputs": [],
   "source": []
  },
  {
   "cell_type": "code",
   "execution_count": 27,
   "id": "3bab556f",
   "metadata": {},
   "outputs": [],
   "source": [
    "## Changed_Credit_Limit"
   ]
  },
  {
   "cell_type": "code",
   "execution_count": 28,
   "id": "280a3b13",
   "metadata": {},
   "outputs": [
    {
     "data": {
      "image/png": "[encoded data removed]",
      "text/plain": [
       "<Figure size 1080x360 with 2 Axes>"
      ]
     },
     "metadata": {},
     "output_type": "display_data"
    }
   ],
   "source": [
    "distribution(col='Changed_Credit_Limit',data=df,i=0)"
   ]
  },
  {
   "cell_type": "code",
   "execution_count": 29,
   "id": "9656a920",
   "metadata": {},
   "outputs": [],
   "source": [
    "def get_Changed_Credit_Limit(row):\n",
    "    if pd.isnull(row['Changed_Credit_Limit']):\n",
    "        Changed_Credit_Limit=(data[data['Customer_ID']==row['Customer_ID']]['Changed_Credit_Limit'].dropna()).mode()\n",
    "        try:\n",
    "            return Changed_Credit_Limit[0]\n",
    "        except:\n",
    "            return np.NaN\n",
    "    else:\n",
    "        return row['Changed_Credit_Limit']"
   ]
  },
  {
   "cell_type": "code",
   "execution_count": 30,
   "id": "23321604",
   "metadata": {},
   "outputs": [],
   "source": [
    "data['Changed_Credit_Limit']=data.apply(get_Changed_Credit_Limit,axis=1)"
   ]
  },
  {
   "cell_type": "code",
   "execution_count": 31,
   "id": "5853be07",
   "metadata": {},
   "outputs": [],
   "source": [
    "data=data[data['Changed_Credit_Limit'] < 30]"
   ]
  },
  {
   "cell_type": "code",
   "execution_count": 32,
   "id": "c7018742",
   "metadata": {},
   "outputs": [
    {
     "data": {
      "image/png": "[encoded data removed]",
      "text/plain": [
       "<Figure size 1080x360 with 2 Axes>"
      ]
     },
     "metadata": {},
     "output_type": "display_data"
    }
   ],
   "source": [
    "distribution(col='Changed_Credit_Limit',data=df,i=1)"
   ]
  },
  {
   "cell_type": "code",
   "execution_count": 33,
   "id": "d80da870",
   "metadata": {},
   "outputs": [],
   "source": [
    "## Num credit Inqueries"
   ]
  },
  {
   "cell_type": "code",
   "execution_count": 34,
   "id": "eeba5256",
   "metadata": {},
   "outputs": [
    {
     "data": {
      "image/png": "[encoded data removed]",
      "text/plain": [
       "<Figure size 1080x360 with 2 Axes>"
      ]
     },
     "metadata": {},
     "output_type": "display_data"
    }
   ],
   "source": [
    "distribution(col='Num_Credit_Inquiries',data=df,i=0)"
   ]
  },
  {
   "cell_type": "code",
   "execution_count": 35,
   "id": "4d8e7d66",
   "metadata": {},
   "outputs": [],
   "source": [
    "def get_Num_Credit_Inquiries(row):\n",
    "    if pd.isnull(row['Num_Credit_Inquiries']):\n",
    "        Num_Credit_Inquiries=(data[data['Customer_ID']==row['Customer_ID']]['Num_Credit_Inquiries'].dropna()).mode()\n",
    "        try:\n",
    "            return Num_Credit_Inquiries[0]\n",
    "        except:\n",
    "            return np.NaN\n",
    "    else:\n",
    "        return row['Num_Credit_Inquiries']"
   ]
  },
  {
   "cell_type": "code",
   "execution_count": 36,
   "id": "f235f6d2",
   "metadata": {},
   "outputs": [],
   "source": [
    "data['Num_Credit_Inquiries']=data.apply(get_Num_Credit_Inquiries,axis=1)"
   ]
  },
  {
   "cell_type": "code",
   "execution_count": 37,
   "id": "e3228b2a",
   "metadata": {},
   "outputs": [
    {
     "data": {
      "text/plain": [
       "(96163, 28)"
      ]
     },
     "execution_count": 37,
     "metadata": {},
     "output_type": "execute_result"
    }
   ],
   "source": [
    "data=data[data['Num_Credit_Inquiries']<50]\n",
    "data.shape"
   ]
  },
  {
   "cell_type": "code",
   "execution_count": 38,
   "id": "8e9c6daa",
   "metadata": {},
   "outputs": [
    {
     "data": {
      "image/png": "[encoded data removed]",
      "text/plain": [
       "<Figure size 1080x360 with 2 Axes>"
      ]
     },
     "metadata": {},
     "output_type": "display_data"
    }
   ],
   "source": [
    "distribution(col='Num_Credit_Inquiries',data=df,i=1)"
   ]
  },
  {
   "cell_type": "code",
   "execution_count": null,
   "id": "c76f302f",
   "metadata": {},
   "outputs": [],
   "source": []
  },
  {
   "cell_type": "code",
   "execution_count": 39,
   "id": "beb02c4f",
   "metadata": {},
   "outputs": [],
   "source": [
    "## Credit_History_Age"
   ]
  },
  {
   "cell_type": "code",
   "execution_count": 40,
   "id": "d3b47012",
   "metadata": {},
   "outputs": [
    {
     "data": {
      "image/png": "[encoded data removed]",
      "text/plain": [
       "<Figure size 1080x360 with 2 Axes>"
      ]
     },
     "metadata": {},
     "output_type": "display_data"
    }
   ],
   "source": [
    "distribution(col='Credit_History_Age',data=df,i=0)"
   ]
  },
  {
   "cell_type": "code",
   "execution_count": 41,
   "id": "f9071c8d",
   "metadata": {},
   "outputs": [],
   "source": [
    "def get_Credit_History_Age(row):\n",
    "    if pd.isnull(row['Credit_History_Age']):\n",
    "        Credit_History_Age=(data[data['Customer_ID']==row['Customer_ID']]['Credit_History_Age'].dropna()).mode()\n",
    "        try:\n",
    "            return Credit_History_Age[0]\n",
    "        except:\n",
    "            return np.NaN\n",
    "    else:\n",
    "        return row['Credit_History_Age']"
   ]
  },
  {
   "cell_type": "code",
   "execution_count": 42,
   "id": "6cd9f128",
   "metadata": {},
   "outputs": [],
   "source": [
    "data['Credit_History_Age']=data.apply(get_Credit_History_Age,axis=1)"
   ]
  },
  {
   "cell_type": "code",
   "execution_count": 43,
   "id": "5d991da6",
   "metadata": {},
   "outputs": [
    {
     "data": {
      "image/png": "[encoded data removed]",
      "text/plain": [
       "<Figure size 1080x360 with 2 Axes>"
      ]
     },
     "metadata": {},
     "output_type": "display_data"
    }
   ],
   "source": [
    "distribution(col='Credit_History_Age',data=df,i=1)"
   ]
  },
  {
   "cell_type": "code",
   "execution_count": 44,
   "id": "b4a2f0bf",
   "metadata": {},
   "outputs": [],
   "source": [
    "## Amount_Invested_Monthly"
   ]
  },
  {
   "cell_type": "code",
   "execution_count": 45,
   "id": "a2a39b53",
   "metadata": {},
   "outputs": [
    {
     "data": {
      "image/png": "[encoded data removed]",
      "text/plain": [
       "<Figure size 1080x360 with 2 Axes>"
      ]
     },
     "metadata": {},
     "output_type": "display_data"
    }
   ],
   "source": [
    "distribution(col='Amount_invested_monthly',data=df,i=0)"
   ]
  },
  {
   "cell_type": "code",
   "execution_count": 46,
   "id": "cdbc8b95",
   "metadata": {},
   "outputs": [],
   "source": [
    "def get_Amount_invested_monthly(row):\n",
    "    if pd.isnull(row['Amount_invested_monthly']):\n",
    "        Amount_invested_monthly=(data[data['Customer_ID']==row['Customer_ID']]['Amount_invested_monthly'].dropna()).mode()\n",
    "        try:\n",
    "            return Amount_invested_monthly[0]\n",
    "        except:\n",
    "            return np.NaN\n",
    "    else:\n",
    "        return row['Amount_invested_monthly']"
   ]
  },
  {
   "cell_type": "code",
   "execution_count": 47,
   "id": "294dacdd",
   "metadata": {},
   "outputs": [],
   "source": [
    "data['Amount_invested_monthly']=data.apply(get_Amount_invested_monthly,axis=1)"
   ]
  },
  {
   "cell_type": "code",
   "execution_count": 48,
   "id": "d78dfa07",
   "metadata": {},
   "outputs": [],
   "source": [
    "data=data[data['Amount_invested_monthly']<1000]"
   ]
  },
  {
   "cell_type": "code",
   "execution_count": 49,
   "id": "0a1e476c",
   "metadata": {},
   "outputs": [
    {
     "data": {
      "image/png": "[encoded data removed]",
      "text/plain": [
       "<Figure size 1080x360 with 2 Axes>"
      ]
     },
     "metadata": {},
     "output_type": "display_data"
    }
   ],
   "source": [
    "distribution(col='Amount_invested_monthly',data=df,i=1)"
   ]
  },
  {
   "cell_type": "code",
   "execution_count": null,
   "id": "db05dc09",
   "metadata": {},
   "outputs": [],
   "source": []
  },
  {
   "cell_type": "code",
   "execution_count": 50,
   "id": "d878d4e0",
   "metadata": {},
   "outputs": [],
   "source": [
    "## Monthly Balance"
   ]
  },
  {
   "cell_type": "code",
   "execution_count": 51,
   "id": "8fe50e33",
   "metadata": {},
   "outputs": [
    {
     "data": {
      "image/png": "[encoded data removed]",
      "text/plain": [
       "<Figure size 1080x360 with 2 Axes>"
      ]
     },
     "metadata": {},
     "output_type": "display_data"
    }
   ],
   "source": [
    "distribution(col='Monthly_Balance',data=df,i=0)\n"
   ]
  },
  {
   "cell_type": "code",
   "execution_count": 52,
   "id": "00272e89",
   "metadata": {},
   "outputs": [],
   "source": [
    "def get_Monthly_Balance(row):\n",
    "    if pd.isnull(row['Monthly_Balance']):\n",
    "        Monthly_Balance=(data[data['Customer_ID']==row['Customer_ID']]['Monthly_Balance'].dropna()).mode()\n",
    "        try:\n",
    "            return Monthly_Balance[0]\n",
    "        except:\n",
    "            return np.NaN\n",
    "    else:\n",
    "        return row['Monthly_Balance']"
   ]
  },
  {
   "cell_type": "code",
   "execution_count": 53,
   "id": "9517abee",
   "metadata": {},
   "outputs": [],
   "source": [
    "data['Monthly_Balance']=data.apply(get_Monthly_Balance,axis=1)"
   ]
  },
  {
   "cell_type": "code",
   "execution_count": 54,
   "id": "2ea08906",
   "metadata": {},
   "outputs": [
    {
     "name": "stdout",
     "output_type": "stream",
     "text": [
      "(9, 28)\n"
     ]
    }
   ],
   "source": [
    "print(data[data['Monthly_Balance'] <= 0].shape)\n",
    "data = data[data['Monthly_Balance'] > 0]"
   ]
  },
  {
   "cell_type": "code",
   "execution_count": 55,
   "id": "a7ef3c81",
   "metadata": {},
   "outputs": [
    {
     "data": {
      "image/png": "[encoded data removed]",
      "text/plain": [
       "<Figure size 1080x360 with 2 Axes>"
      ]
     },
     "metadata": {},
     "output_type": "display_data"
    }
   ],
   "source": [
    "distribution(col='Monthly_Balance',data=df,i=1)"
   ]
  },
  {
   "cell_type": "code",
   "execution_count": null,
   "id": "10552787",
   "metadata": {},
   "outputs": [],
   "source": []
  },
  {
   "cell_type": "code",
   "execution_count": 56,
   "id": "4e88c8a2",
   "metadata": {},
   "outputs": [],
   "source": [
    "### Occupation"
   ]
  },
  {
   "cell_type": "code",
   "execution_count": 57,
   "id": "f2705bd5",
   "metadata": {},
   "outputs": [],
   "source": [
    "def get_Occupation(row):\n",
    "    if pd.isnull(row['Occupation']):\n",
    "        Occupation=(data[data['Customer_ID']==row['Customer_ID']]['Occupation'].dropna()).mode()\n",
    "        try:\n",
    "            return Occupation[0]\n",
    "        except:\n",
    "            return np.NaN\n",
    "    else:\n",
    "        return row['Occupation']"
   ]
  },
  {
   "cell_type": "code",
   "execution_count": 58,
   "id": "b529d5c9",
   "metadata": {},
   "outputs": [],
   "source": [
    "data['Occupation']=data.apply(get_Occupation,axis=1)"
   ]
  },
  {
   "cell_type": "code",
   "execution_count": 59,
   "id": "0e3e9692",
   "metadata": {},
   "outputs": [],
   "source": [
    "data['Occupation'] = data['Occupation'].fillna(data['Occupation'].mode()[0])"
   ]
  },
  {
   "cell_type": "code",
   "execution_count": null,
   "id": "1a0a000b",
   "metadata": {},
   "outputs": [],
   "source": []
  },
  {
   "cell_type": "code",
   "execution_count": null,
   "id": "ad2c74ef",
   "metadata": {},
   "outputs": [],
   "source": []
  },
  {
   "cell_type": "code",
   "execution_count": 60,
   "id": "87ab284f",
   "metadata": {},
   "outputs": [],
   "source": [
    "### Types of loan"
   ]
  },
  {
   "cell_type": "code",
   "execution_count": 61,
   "id": "2ce9ed47",
   "metadata": {},
   "outputs": [],
   "source": [
    "data['Type_of_Loan'] = data['Type_of_Loan'].fillna('Not Specified')"
   ]
  },
  {
   "cell_type": "code",
   "execution_count": 62,
   "id": "ad29bdfe",
   "metadata": {},
   "outputs": [],
   "source": [
    "data.drop('Type_of_Loan',axis=1,inplace=True)"
   ]
  },
  {
   "cell_type": "code",
   "execution_count": null,
   "id": "345baeb9",
   "metadata": {},
   "outputs": [],
   "source": []
  },
  {
   "cell_type": "code",
   "execution_count": 63,
   "id": "deb19ff6",
   "metadata": {},
   "outputs": [],
   "source": [
    "## Credit mix"
   ]
  },
  {
   "cell_type": "code",
   "execution_count": 64,
   "id": "2ded5059",
   "metadata": {},
   "outputs": [],
   "source": [
    "def get_Credit_Mix(row):\n",
    "    if pd.isnull(row['Credit_Mix']):\n",
    "        Credit_Mix=(data[data['Customer_ID']==row['Customer_ID']]['Credit_Mix'].dropna()).mode()\n",
    "        try:\n",
    "            return Credit_Mix[0]\n",
    "        except:\n",
    "            return np.NaN\n",
    "    else:\n",
    "        return row['Credit_Mix']"
   ]
  },
  {
   "cell_type": "code",
   "execution_count": 65,
   "id": "6cc18ac0",
   "metadata": {},
   "outputs": [],
   "source": [
    "data['Credit_Mix']=data.apply(get_Credit_Mix,axis=1)"
   ]
  },
  {
   "cell_type": "code",
   "execution_count": 66,
   "id": "f3c84caf",
   "metadata": {},
   "outputs": [],
   "source": [
    "data['Credit_Mix'] = data['Credit_Mix'].fillna(data['Credit_Mix'].mode()[0])"
   ]
  },
  {
   "cell_type": "code",
   "execution_count": null,
   "id": "50daf4a8",
   "metadata": {},
   "outputs": [],
   "source": []
  },
  {
   "cell_type": "code",
   "execution_count": null,
   "id": "9ffd4184",
   "metadata": {},
   "outputs": [],
   "source": []
  },
  {
   "cell_type": "code",
   "execution_count": null,
   "id": "0832e91b",
   "metadata": {},
   "outputs": [],
   "source": []
  },
  {
   "cell_type": "code",
   "execution_count": 67,
   "id": "dd023261",
   "metadata": {},
   "outputs": [],
   "source": [
    "## payment behaviour"
   ]
  },
  {
   "cell_type": "code",
   "execution_count": 68,
   "id": "bb1b5ad3",
   "metadata": {},
   "outputs": [],
   "source": [
    "def get_Payment_Behaviour(row):\n",
    "    if pd.isnull(row['Payment_Behaviour']):\n",
    "        Payment_Behaviour=(data[data['Customer_ID']==row['Customer_ID']]['Payment_Behaviour'].dropna()).mode()\n",
    "        try:\n",
    "            return Payment_Behaviour[0]\n",
    "        except:\n",
    "            return np.NaN\n",
    "    else:\n",
    "        return row['Payment_Behaviour']\n",
    "    "
   ]
  },
  {
   "cell_type": "code",
   "execution_count": 69,
   "id": "80b0395d",
   "metadata": {},
   "outputs": [],
   "source": [
    "data['Payment_Behaviour']=data.apply(get_Payment_Behaviour,axis=1)"
   ]
  },
  {
   "cell_type": "code",
   "execution_count": 70,
   "id": "a32256f6",
   "metadata": {},
   "outputs": [],
   "source": [
    "data['Payment_Behaviour'] = data['Payment_Behaviour'].fillna(data['Payment_Behaviour'].mode()[0])"
   ]
  },
  {
   "cell_type": "code",
   "execution_count": null,
   "id": "83ec4c5d",
   "metadata": {},
   "outputs": [],
   "source": []
  },
  {
   "cell_type": "code",
   "execution_count": 71,
   "id": "3cbc1665",
   "metadata": {},
   "outputs": [],
   "source": [
    "## Age"
   ]
  },
  {
   "cell_type": "code",
   "execution_count": 72,
   "id": "ddbcb0f7",
   "metadata": {},
   "outputs": [],
   "source": [
    "def get_age(row):\n",
    "    if (60 < row['Age']) or (0 > row['Age']) :\n",
    "        Age=(data[data['Customer_ID']==row['Customer_ID']]['Age'].dropna()).mode()\n",
    "        try:\n",
    "            return Age[0]\n",
    "        except:\n",
    "            return np.NaN\n",
    "    else:\n",
    "        return row['Age']"
   ]
  },
  {
   "cell_type": "code",
   "execution_count": 73,
   "id": "30a2777c",
   "metadata": {},
   "outputs": [],
   "source": [
    "data['Age']=data.apply(get_age,axis=1)"
   ]
  },
  {
   "cell_type": "code",
   "execution_count": 74,
   "id": "523f3df3",
   "metadata": {},
   "outputs": [],
   "source": [
    "data.drop(data[data['Age'] > 60].index,axis=0,inplace=True)"
   ]
  },
  {
   "cell_type": "code",
   "execution_count": 75,
   "id": "67b82af5",
   "metadata": {},
   "outputs": [],
   "source": [
    "data.drop(data[data['Age']  < 0].index,axis=0,inplace=True)"
   ]
  },
  {
   "cell_type": "code",
   "execution_count": 76,
   "id": "ab1fc46b",
   "metadata": {},
   "outputs": [],
   "source": [
    "## Annual_income"
   ]
  },
  {
   "cell_type": "code",
   "execution_count": 77,
   "id": "323bb513",
   "metadata": {},
   "outputs": [],
   "source": [
    "def get_Annual_Income(row):\n",
    "    if 150000 < row['Annual_Income'] :\n",
    "        Annual_Income=(data[data['Customer_ID']==row['Customer_ID']]['Annual_Income'].dropna()).mode()\n",
    "        try:\n",
    "            return Annual_Income[0]\n",
    "        except:\n",
    "            return np.NaN\n",
    "    else:\n",
    "        return row['Annual_Income']"
   ]
  },
  {
   "cell_type": "code",
   "execution_count": 78,
   "id": "5ece36d8",
   "metadata": {},
   "outputs": [],
   "source": [
    "data['Annual_Income']=data.apply(get_Annual_Income,axis=1)"
   ]
  },
  {
   "cell_type": "code",
   "execution_count": 79,
   "id": "735a6a13",
   "metadata": {},
   "outputs": [],
   "source": [
    "data.drop(data[data['Annual_Income']  > 165000].index,axis=0,inplace=True)"
   ]
  },
  {
   "cell_type": "code",
   "execution_count": null,
   "id": "a2927c3e",
   "metadata": {},
   "outputs": [],
   "source": []
  },
  {
   "cell_type": "code",
   "execution_count": 80,
   "id": "da3d4dd1",
   "metadata": {},
   "outputs": [],
   "source": [
    "## Num_Bank_Accounts"
   ]
  },
  {
   "cell_type": "code",
   "execution_count": 81,
   "id": "705e50b6",
   "metadata": {},
   "outputs": [],
   "source": [
    "def get_Num_Bank_Accounts(row):\n",
    "    if 12 < row['Num_Bank_Accounts'] :\n",
    "        Num_Bank_Accounts=(data[data['Customer_ID']==row['Customer_ID']]['Num_Bank_Accounts'].dropna()).mode()\n",
    "        try:\n",
    "            return Num_Bank_Accounts[0]\n",
    "        except:\n",
    "            return np.NaN\n",
    "    else:\n",
    "        return row['Num_Bank_Accounts']"
   ]
  },
  {
   "cell_type": "code",
   "execution_count": 82,
   "id": "1d338069",
   "metadata": {},
   "outputs": [],
   "source": [
    "data['Num_Bank_Accounts']=data.apply(get_Num_Bank_Accounts,axis=1)"
   ]
  },
  {
   "cell_type": "code",
   "execution_count": 83,
   "id": "1fc6bd88",
   "metadata": {},
   "outputs": [],
   "source": [
    "data.drop(data[data['Num_Bank_Accounts']  > 12].index,axis=0,inplace=True)\n",
    "data.drop(data[data['Num_Bank_Accounts']  < 0].index,axis=0,inplace=True)\n",
    "\n"
   ]
  },
  {
   "cell_type": "code",
   "execution_count": null,
   "id": "8e74dab2",
   "metadata": {},
   "outputs": [],
   "source": []
  },
  {
   "cell_type": "code",
   "execution_count": 84,
   "id": "20504bcb",
   "metadata": {},
   "outputs": [],
   "source": [
    "### Num_Credit_card"
   ]
  },
  {
   "cell_type": "code",
   "execution_count": 85,
   "id": "b6fb1a84",
   "metadata": {},
   "outputs": [],
   "source": [
    "def get_Num_Credit_Card(row):\n",
    "    if 14 < row['Num_Credit_Card'] :\n",
    "        Num_Credit_Card=(data[data['Customer_ID']==row['Customer_ID']]['Num_Credit_Card'].dropna()).mode()\n",
    "        try:\n",
    "            return Num_Credit_Card[0]\n",
    "        except:\n",
    "            return np.NaN\n",
    "    else:\n",
    "        return row['Num_Credit_Card']"
   ]
  },
  {
   "cell_type": "code",
   "execution_count": 86,
   "id": "ee73ec21",
   "metadata": {},
   "outputs": [],
   "source": [
    "data['Num_Credit_Card']=data.apply(get_Num_Credit_Card,axis=1)"
   ]
  },
  {
   "cell_type": "code",
   "execution_count": 87,
   "id": "f42f0cfb",
   "metadata": {},
   "outputs": [],
   "source": [
    "data.drop(data[data['Num_Credit_Card']  > 14].index,axis=0,inplace=True)"
   ]
  },
  {
   "cell_type": "code",
   "execution_count": 88,
   "id": "29872fa5",
   "metadata": {},
   "outputs": [],
   "source": [
    "### Intrest Rate"
   ]
  },
  {
   "cell_type": "code",
   "execution_count": 89,
   "id": "cba317e0",
   "metadata": {},
   "outputs": [],
   "source": [
    "def get_Interest_Rate(row):\n",
    "    if 35 < row['Interest_Rate'] :\n",
    "        Interest_Rate=(data[data['Customer_ID']==row['Customer_ID']]['Interest_Rate'].dropna()).mode()\n",
    "        try:\n",
    "            return Interest_Rate[0]\n",
    "        except:\n",
    "            return np.NaN\n",
    "    else:\n",
    "        return row['Interest_Rate']"
   ]
  },
  {
   "cell_type": "code",
   "execution_count": 90,
   "id": "7d86c7a3",
   "metadata": {},
   "outputs": [],
   "source": [
    "data['Interest_Rate']=data.apply(get_Interest_Rate,axis=1)\n"
   ]
  },
  {
   "cell_type": "code",
   "execution_count": null,
   "id": "664bc91d",
   "metadata": {},
   "outputs": [],
   "source": []
  },
  {
   "cell_type": "code",
   "execution_count": null,
   "id": "d77e3683",
   "metadata": {},
   "outputs": [],
   "source": []
  },
  {
   "cell_type": "code",
   "execution_count": null,
   "id": "74884d5c",
   "metadata": {},
   "outputs": [],
   "source": []
  },
  {
   "cell_type": "code",
   "execution_count": 91,
   "id": "eeebe1cb",
   "metadata": {},
   "outputs": [],
   "source": [
    "## Num of loan"
   ]
  },
  {
   "cell_type": "code",
   "execution_count": 92,
   "id": "0087d20f",
   "metadata": {},
   "outputs": [],
   "source": [
    "def get_Num_of_Loan(row):\n",
    "    if (8 < row['Num_of_Loan']) or (0 > row['Num_of_Loan']):\n",
    "        Num_of_Loan=(data[data['Customer_ID']==row['Customer_ID']]['Num_of_Loan'].dropna()).mode()\n",
    "        try:\n",
    "            return Num_of_Loan[0]\n",
    "        except:\n",
    "            return np.NaN\n",
    "    else:\n",
    "        return row['Num_of_Loan']"
   ]
  },
  {
   "cell_type": "code",
   "execution_count": 93,
   "id": "a1c535cd",
   "metadata": {},
   "outputs": [],
   "source": [
    "data['Num_of_Loan']=data.apply(get_Num_of_Loan,axis=1)"
   ]
  },
  {
   "cell_type": "code",
   "execution_count": 94,
   "id": "5da30493",
   "metadata": {},
   "outputs": [],
   "source": [
    "data.drop(data[data['Num_of_Loan']  < 0].index,axis=0,inplace=True)"
   ]
  },
  {
   "cell_type": "code",
   "execution_count": 95,
   "id": "ce773c72",
   "metadata": {},
   "outputs": [],
   "source": [
    "### Total Emi per month"
   ]
  },
  {
   "cell_type": "code",
   "execution_count": 96,
   "id": "15ee692a",
   "metadata": {},
   "outputs": [],
   "source": [
    "data=data[data['Total_EMI_per_month']<5000]\n"
   ]
  },
  {
   "cell_type": "code",
   "execution_count": 98,
   "id": "93153c49",
   "metadata": {},
   "outputs": [
    {
     "data": {
      "text/html": [
       "<div>\n",
       "<style scoped>\n",
       "    .dataframe tbody tr th:only-of-type {\n",
       "        vertical-align: middle;\n",
       "    }\n",
       "\n",
       "    .dataframe tbody tr th {\n",
       "        vertical-align: top;\n",
       "    }\n",
       "\n",
       "    .dataframe thead th {\n",
       "        text-align: right;\n",
       "    }\n",
       "</style>\n",
       "<table border=\"1\" class=\"dataframe\">\n",
       "  <thead>\n",
       "    <tr style=\"text-align: right;\">\n",
       "      <th></th>\n",
       "      <th>ID</th>\n",
       "      <th>Customer_ID</th>\n",
       "      <th>Month</th>\n",
       "      <th>Name</th>\n",
       "      <th>Age</th>\n",
       "      <th>SSN</th>\n",
       "      <th>Occupation</th>\n",
       "      <th>Annual_Income</th>\n",
       "      <th>Monthly_Inhand_Salary</th>\n",
       "      <th>Num_Bank_Accounts</th>\n",
       "      <th>Num_Credit_Card</th>\n",
       "      <th>Interest_Rate</th>\n",
       "      <th>Num_of_Loan</th>\n",
       "      <th>Delay_from_due_date</th>\n",
       "      <th>Num_of_Delayed_Payment</th>\n",
       "      <th>Changed_Credit_Limit</th>\n",
       "      <th>Num_Credit_Inquiries</th>\n",
       "      <th>Credit_Mix</th>\n",
       "      <th>Outstanding_Debt</th>\n",
       "      <th>Credit_Utilization_Ratio</th>\n",
       "      <th>Credit_History_Age</th>\n",
       "      <th>Payment_of_Min_Amount</th>\n",
       "      <th>Total_EMI_per_month</th>\n",
       "      <th>Amount_invested_monthly</th>\n",
       "      <th>Payment_Behaviour</th>\n",
       "      <th>Monthly_Balance</th>\n",
       "      <th>Credit_Score</th>\n",
       "    </tr>\n",
       "  </thead>\n",
       "  <tbody>\n",
       "    <tr>\n",
       "      <th>0</th>\n",
       "      <td>0x1602</td>\n",
       "      <td>CUS_0xd40</td>\n",
       "      <td>January</td>\n",
       "      <td>Aaron Maashoh</td>\n",
       "      <td>23</td>\n",
       "      <td>821000265.0</td>\n",
       "      <td>Scientist</td>\n",
       "      <td>19114.12</td>\n",
       "      <td>1824.843333</td>\n",
       "      <td>3</td>\n",
       "      <td>4</td>\n",
       "      <td>3</td>\n",
       "      <td>4</td>\n",
       "      <td>3</td>\n",
       "      <td>7.0</td>\n",
       "      <td>11.27</td>\n",
       "      <td>4.0</td>\n",
       "      <td>Good</td>\n",
       "      <td>809.98</td>\n",
       "      <td>26.822620</td>\n",
       "      <td>265.0</td>\n",
       "      <td>No</td>\n",
       "      <td>49.574949</td>\n",
       "      <td>80.415295</td>\n",
       "      <td>High_spent_Small_value_payments</td>\n",
       "      <td>312.494089</td>\n",
       "      <td>Good</td>\n",
       "    </tr>\n",
       "    <tr>\n",
       "      <th>1</th>\n",
       "      <td>0x1603</td>\n",
       "      <td>CUS_0xd40</td>\n",
       "      <td>February</td>\n",
       "      <td>Aaron Maashoh</td>\n",
       "      <td>23</td>\n",
       "      <td>821000265.0</td>\n",
       "      <td>Scientist</td>\n",
       "      <td>19114.12</td>\n",
       "      <td>1824.843333</td>\n",
       "      <td>3</td>\n",
       "      <td>4</td>\n",
       "      <td>3</td>\n",
       "      <td>4</td>\n",
       "      <td>-1</td>\n",
       "      <td>4.0</td>\n",
       "      <td>11.27</td>\n",
       "      <td>4.0</td>\n",
       "      <td>Good</td>\n",
       "      <td>809.98</td>\n",
       "      <td>31.944960</td>\n",
       "      <td>265.0</td>\n",
       "      <td>No</td>\n",
       "      <td>49.574949</td>\n",
       "      <td>118.280222</td>\n",
       "      <td>Low_spent_Large_value_payments</td>\n",
       "      <td>284.629162</td>\n",
       "      <td>Good</td>\n",
       "    </tr>\n",
       "    <tr>\n",
       "      <th>2</th>\n",
       "      <td>0x1604</td>\n",
       "      <td>CUS_0xd40</td>\n",
       "      <td>March</td>\n",
       "      <td>Aaron Maashoh</td>\n",
       "      <td>23</td>\n",
       "      <td>821000265.0</td>\n",
       "      <td>Scientist</td>\n",
       "      <td>19114.12</td>\n",
       "      <td>1824.843333</td>\n",
       "      <td>3</td>\n",
       "      <td>4</td>\n",
       "      <td>3</td>\n",
       "      <td>4</td>\n",
       "      <td>3</td>\n",
       "      <td>7.0</td>\n",
       "      <td>11.27</td>\n",
       "      <td>4.0</td>\n",
       "      <td>Good</td>\n",
       "      <td>809.98</td>\n",
       "      <td>28.609352</td>\n",
       "      <td>267.0</td>\n",
       "      <td>No</td>\n",
       "      <td>49.574949</td>\n",
       "      <td>81.699521</td>\n",
       "      <td>Low_spent_Medium_value_payments</td>\n",
       "      <td>331.209863</td>\n",
       "      <td>Good</td>\n",
       "    </tr>\n",
       "    <tr>\n",
       "      <th>3</th>\n",
       "      <td>0x1605</td>\n",
       "      <td>CUS_0xd40</td>\n",
       "      <td>April</td>\n",
       "      <td>Aaron Maashoh</td>\n",
       "      <td>23</td>\n",
       "      <td>821000265.0</td>\n",
       "      <td>Scientist</td>\n",
       "      <td>19114.12</td>\n",
       "      <td>1824.843333</td>\n",
       "      <td>3</td>\n",
       "      <td>4</td>\n",
       "      <td>3</td>\n",
       "      <td>4</td>\n",
       "      <td>5</td>\n",
       "      <td>4.0</td>\n",
       "      <td>6.27</td>\n",
       "      <td>4.0</td>\n",
       "      <td>Good</td>\n",
       "      <td>809.98</td>\n",
       "      <td>31.377862</td>\n",
       "      <td>268.0</td>\n",
       "      <td>No</td>\n",
       "      <td>49.574949</td>\n",
       "      <td>199.458074</td>\n",
       "      <td>Low_spent_Small_value_payments</td>\n",
       "      <td>223.451310</td>\n",
       "      <td>Good</td>\n",
       "    </tr>\n",
       "    <tr>\n",
       "      <th>4</th>\n",
       "      <td>0x1606</td>\n",
       "      <td>CUS_0xd40</td>\n",
       "      <td>May</td>\n",
       "      <td>Aaron Maashoh</td>\n",
       "      <td>23</td>\n",
       "      <td>821000265.0</td>\n",
       "      <td>Scientist</td>\n",
       "      <td>19114.12</td>\n",
       "      <td>1824.843333</td>\n",
       "      <td>3</td>\n",
       "      <td>4</td>\n",
       "      <td>3</td>\n",
       "      <td>4</td>\n",
       "      <td>6</td>\n",
       "      <td>4.0</td>\n",
       "      <td>11.27</td>\n",
       "      <td>4.0</td>\n",
       "      <td>Good</td>\n",
       "      <td>809.98</td>\n",
       "      <td>24.797347</td>\n",
       "      <td>269.0</td>\n",
       "      <td>No</td>\n",
       "      <td>49.574949</td>\n",
       "      <td>41.420153</td>\n",
       "      <td>High_spent_Medium_value_payments</td>\n",
       "      <td>341.489231</td>\n",
       "      <td>Good</td>\n",
       "    </tr>\n",
       "  </tbody>\n",
       "</table>\n",
       "</div>"
      ],
      "text/plain": [
       "       ID Customer_ID     Month           Name  Age          SSN Occupation  \\\n",
       "0  0x1602   CUS_0xd40   January  Aaron Maashoh   23  821000265.0  Scientist   \n",
       "1  0x1603   CUS_0xd40  February  Aaron Maashoh   23  821000265.0  Scientist   \n",
       "2  0x1604   CUS_0xd40     March  Aaron Maashoh   23  821000265.0  Scientist   \n",
       "3  0x1605   CUS_0xd40     April  Aaron Maashoh   23  821000265.0  Scientist   \n",
       "4  0x1606   CUS_0xd40       May  Aaron Maashoh   23  821000265.0  Scientist   \n",
       "\n",
       "   Annual_Income  Monthly_Inhand_Salary  Num_Bank_Accounts  Num_Credit_Card  \\\n",
       "0       19114.12            1824.843333                  3                4   \n",
       "1       19114.12            1824.843333                  3                4   \n",
       "2       19114.12            1824.843333                  3                4   \n",
       "3       19114.12            1824.843333                  3                4   \n",
       "4       19114.12            1824.843333                  3                4   \n",
       "\n",
       "   Interest_Rate  Num_of_Loan  Delay_from_due_date  Num_of_Delayed_Payment  \\\n",
       "0              3            4                    3                     7.0   \n",
       "1              3            4                   -1                     4.0   \n",
       "2              3            4                    3                     7.0   \n",
       "3              3            4                    5                     4.0   \n",
       "4              3            4                    6                     4.0   \n",
       "\n",
       "   Changed_Credit_Limit  Num_Credit_Inquiries Credit_Mix  Outstanding_Debt  \\\n",
       "0                 11.27                   4.0       Good            809.98   \n",
       "1                 11.27                   4.0       Good            809.98   \n",
       "2                 11.27                   4.0       Good            809.98   \n",
       "3                  6.27                   4.0       Good            809.98   \n",
       "4                 11.27                   4.0       Good            809.98   \n",
       "\n",
       "   Credit_Utilization_Ratio  Credit_History_Age Payment_of_Min_Amount  \\\n",
       "0                 26.822620               265.0                    No   \n",
       "1                 31.944960               265.0                    No   \n",
       "2                 28.609352               267.0                    No   \n",
       "3                 31.377862               268.0                    No   \n",
       "4                 24.797347               269.0                    No   \n",
       "\n",
       "   Total_EMI_per_month  Amount_invested_monthly  \\\n",
       "0            49.574949                80.415295   \n",
       "1            49.574949               118.280222   \n",
       "2            49.574949                81.699521   \n",
       "3            49.574949               199.458074   \n",
       "4            49.574949                41.420153   \n",
       "\n",
       "                  Payment_Behaviour  Monthly_Balance Credit_Score  \n",
       "0   High_spent_Small_value_payments       312.494089         Good  \n",
       "1    Low_spent_Large_value_payments       284.629162         Good  \n",
       "2   Low_spent_Medium_value_payments       331.209863         Good  \n",
       "3    Low_spent_Small_value_payments       223.451310         Good  \n",
       "4  High_spent_Medium_value_payments       341.489231         Good  "
      ]
     },
     "execution_count": 98,
     "metadata": {},
     "output_type": "execute_result"
    }
   ],
   "source": [
    "data.head()"
   ]
  },
  {
   "cell_type": "code",
   "execution_count": 99,
   "id": "503750e0",
   "metadata": {},
   "outputs": [
    {
     "data": {
      "text/html": [
       "<div>\n",
       "<style scoped>\n",
       "    .dataframe tbody tr th:only-of-type {\n",
       "        vertical-align: middle;\n",
       "    }\n",
       "\n",
       "    .dataframe tbody tr th {\n",
       "        vertical-align: top;\n",
       "    }\n",
       "\n",
       "    .dataframe thead th {\n",
       "        text-align: right;\n",
       "    }\n",
       "</style>\n",
       "<table border=\"1\" class=\"dataframe\">\n",
       "  <thead>\n",
       "    <tr style=\"text-align: right;\">\n",
       "      <th></th>\n",
       "      <th>ID</th>\n",
       "      <th>Customer_ID</th>\n",
       "      <th>Month</th>\n",
       "      <th>Name</th>\n",
       "      <th>Age</th>\n",
       "      <th>SSN</th>\n",
       "      <th>Occupation</th>\n",
       "      <th>Annual_Income</th>\n",
       "      <th>Monthly_Inhand_Salary</th>\n",
       "      <th>Num_Bank_Accounts</th>\n",
       "      <th>Num_Credit_Card</th>\n",
       "      <th>Interest_Rate</th>\n",
       "      <th>Num_of_Loan</th>\n",
       "      <th>Delay_from_due_date</th>\n",
       "      <th>Num_of_Delayed_Payment</th>\n",
       "      <th>Changed_Credit_Limit</th>\n",
       "      <th>Num_Credit_Inquiries</th>\n",
       "      <th>Credit_Mix</th>\n",
       "      <th>Outstanding_Debt</th>\n",
       "      <th>Credit_Utilization_Ratio</th>\n",
       "      <th>Credit_History_Age</th>\n",
       "      <th>Payment_of_Min_Amount</th>\n",
       "      <th>Total_EMI_per_month</th>\n",
       "      <th>Amount_invested_monthly</th>\n",
       "      <th>Payment_Behaviour</th>\n",
       "      <th>Monthly_Balance</th>\n",
       "      <th>Credit_Score</th>\n",
       "    </tr>\n",
       "  </thead>\n",
       "  <tbody>\n",
       "    <tr>\n",
       "      <th>0</th>\n",
       "      <td>0x1602</td>\n",
       "      <td>CUS_0xd40</td>\n",
       "      <td>January</td>\n",
       "      <td>Aaron Maashoh</td>\n",
       "      <td>23</td>\n",
       "      <td>821000265.0</td>\n",
       "      <td>Scientist</td>\n",
       "      <td>19114.12</td>\n",
       "      <td>1824.843333</td>\n",
       "      <td>3</td>\n",
       "      <td>4</td>\n",
       "      <td>3</td>\n",
       "      <td>4</td>\n",
       "      <td>3</td>\n",
       "      <td>7.0</td>\n",
       "      <td>11.27</td>\n",
       "      <td>4.0</td>\n",
       "      <td>Good</td>\n",
       "      <td>809.98</td>\n",
       "      <td>26.822620</td>\n",
       "      <td>265.0</td>\n",
       "      <td>No</td>\n",
       "      <td>49.574949</td>\n",
       "      <td>80.415295</td>\n",
       "      <td>High_spent_Small_value_payments</td>\n",
       "      <td>312.494089</td>\n",
       "      <td>Good</td>\n",
       "    </tr>\n",
       "    <tr>\n",
       "      <th>1</th>\n",
       "      <td>0x1603</td>\n",
       "      <td>CUS_0xd40</td>\n",
       "      <td>February</td>\n",
       "      <td>Aaron Maashoh</td>\n",
       "      <td>23</td>\n",
       "      <td>821000265.0</td>\n",
       "      <td>Scientist</td>\n",
       "      <td>19114.12</td>\n",
       "      <td>1824.843333</td>\n",
       "      <td>3</td>\n",
       "      <td>4</td>\n",
       "      <td>3</td>\n",
       "      <td>4</td>\n",
       "      <td>-1</td>\n",
       "      <td>4.0</td>\n",
       "      <td>11.27</td>\n",
       "      <td>4.0</td>\n",
       "      <td>Good</td>\n",
       "      <td>809.98</td>\n",
       "      <td>31.944960</td>\n",
       "      <td>265.0</td>\n",
       "      <td>No</td>\n",
       "      <td>49.574949</td>\n",
       "      <td>118.280222</td>\n",
       "      <td>Low_spent_Large_value_payments</td>\n",
       "      <td>284.629162</td>\n",
       "      <td>Good</td>\n",
       "    </tr>\n",
       "    <tr>\n",
       "      <th>2</th>\n",
       "      <td>0x1604</td>\n",
       "      <td>CUS_0xd40</td>\n",
       "      <td>March</td>\n",
       "      <td>Aaron Maashoh</td>\n",
       "      <td>23</td>\n",
       "      <td>821000265.0</td>\n",
       "      <td>Scientist</td>\n",
       "      <td>19114.12</td>\n",
       "      <td>1824.843333</td>\n",
       "      <td>3</td>\n",
       "      <td>4</td>\n",
       "      <td>3</td>\n",
       "      <td>4</td>\n",
       "      <td>3</td>\n",
       "      <td>7.0</td>\n",
       "      <td>11.27</td>\n",
       "      <td>4.0</td>\n",
       "      <td>Good</td>\n",
       "      <td>809.98</td>\n",
       "      <td>28.609352</td>\n",
       "      <td>267.0</td>\n",
       "      <td>No</td>\n",
       "      <td>49.574949</td>\n",
       "      <td>81.699521</td>\n",
       "      <td>Low_spent_Medium_value_payments</td>\n",
       "      <td>331.209863</td>\n",
       "      <td>Good</td>\n",
       "    </tr>\n",
       "    <tr>\n",
       "      <th>3</th>\n",
       "      <td>0x1605</td>\n",
       "      <td>CUS_0xd40</td>\n",
       "      <td>April</td>\n",
       "      <td>Aaron Maashoh</td>\n",
       "      <td>23</td>\n",
       "      <td>821000265.0</td>\n",
       "      <td>Scientist</td>\n",
       "      <td>19114.12</td>\n",
       "      <td>1824.843333</td>\n",
       "      <td>3</td>\n",
       "      <td>4</td>\n",
       "      <td>3</td>\n",
       "      <td>4</td>\n",
       "      <td>5</td>\n",
       "      <td>4.0</td>\n",
       "      <td>6.27</td>\n",
       "      <td>4.0</td>\n",
       "      <td>Good</td>\n",
       "      <td>809.98</td>\n",
       "      <td>31.377862</td>\n",
       "      <td>268.0</td>\n",
       "      <td>No</td>\n",
       "      <td>49.574949</td>\n",
       "      <td>199.458074</td>\n",
       "      <td>Low_spent_Small_value_payments</td>\n",
       "      <td>223.451310</td>\n",
       "      <td>Good</td>\n",
       "    </tr>\n",
       "    <tr>\n",
       "      <th>4</th>\n",
       "      <td>0x1606</td>\n",
       "      <td>CUS_0xd40</td>\n",
       "      <td>May</td>\n",
       "      <td>Aaron Maashoh</td>\n",
       "      <td>23</td>\n",
       "      <td>821000265.0</td>\n",
       "      <td>Scientist</td>\n",
       "      <td>19114.12</td>\n",
       "      <td>1824.843333</td>\n",
       "      <td>3</td>\n",
       "      <td>4</td>\n",
       "      <td>3</td>\n",
       "      <td>4</td>\n",
       "      <td>6</td>\n",
       "      <td>4.0</td>\n",
       "      <td>11.27</td>\n",
       "      <td>4.0</td>\n",
       "      <td>Good</td>\n",
       "      <td>809.98</td>\n",
       "      <td>24.797347</td>\n",
       "      <td>269.0</td>\n",
       "      <td>No</td>\n",
       "      <td>49.574949</td>\n",
       "      <td>41.420153</td>\n",
       "      <td>High_spent_Medium_value_payments</td>\n",
       "      <td>341.489231</td>\n",
       "      <td>Good</td>\n",
       "    </tr>\n",
       "    <tr>\n",
       "      <th>...</th>\n",
       "      <td>...</td>\n",
       "      <td>...</td>\n",
       "      <td>...</td>\n",
       "      <td>...</td>\n",
       "      <td>...</td>\n",
       "      <td>...</td>\n",
       "      <td>...</td>\n",
       "      <td>...</td>\n",
       "      <td>...</td>\n",
       "      <td>...</td>\n",
       "      <td>...</td>\n",
       "      <td>...</td>\n",
       "      <td>...</td>\n",
       "      <td>...</td>\n",
       "      <td>...</td>\n",
       "      <td>...</td>\n",
       "      <td>...</td>\n",
       "      <td>...</td>\n",
       "      <td>...</td>\n",
       "      <td>...</td>\n",
       "      <td>...</td>\n",
       "      <td>...</td>\n",
       "      <td>...</td>\n",
       "      <td>...</td>\n",
       "      <td>...</td>\n",
       "      <td>...</td>\n",
       "      <td>...</td>\n",
       "    </tr>\n",
       "    <tr>\n",
       "      <th>99995</th>\n",
       "      <td>0x25fe9</td>\n",
       "      <td>CUS_0x942c</td>\n",
       "      <td>April</td>\n",
       "      <td>Nicks</td>\n",
       "      <td>25</td>\n",
       "      <td>78735990.0</td>\n",
       "      <td>Mechanic</td>\n",
       "      <td>39628.99</td>\n",
       "      <td>3359.415833</td>\n",
       "      <td>4</td>\n",
       "      <td>6</td>\n",
       "      <td>7</td>\n",
       "      <td>2</td>\n",
       "      <td>23</td>\n",
       "      <td>7.0</td>\n",
       "      <td>11.50</td>\n",
       "      <td>3.0</td>\n",
       "      <td>Good</td>\n",
       "      <td>502.38</td>\n",
       "      <td>34.663572</td>\n",
       "      <td>378.0</td>\n",
       "      <td>No</td>\n",
       "      <td>35.104023</td>\n",
       "      <td>60.971333</td>\n",
       "      <td>High_spent_Large_value_payments</td>\n",
       "      <td>479.866228</td>\n",
       "      <td>Poor</td>\n",
       "    </tr>\n",
       "    <tr>\n",
       "      <th>99996</th>\n",
       "      <td>0x25fea</td>\n",
       "      <td>CUS_0x942c</td>\n",
       "      <td>May</td>\n",
       "      <td>Nicks</td>\n",
       "      <td>25</td>\n",
       "      <td>78735990.0</td>\n",
       "      <td>Mechanic</td>\n",
       "      <td>39628.99</td>\n",
       "      <td>3359.415833</td>\n",
       "      <td>4</td>\n",
       "      <td>6</td>\n",
       "      <td>7</td>\n",
       "      <td>2</td>\n",
       "      <td>18</td>\n",
       "      <td>7.0</td>\n",
       "      <td>11.50</td>\n",
       "      <td>3.0</td>\n",
       "      <td>Good</td>\n",
       "      <td>502.38</td>\n",
       "      <td>40.565631</td>\n",
       "      <td>379.0</td>\n",
       "      <td>No</td>\n",
       "      <td>35.104023</td>\n",
       "      <td>54.185950</td>\n",
       "      <td>High_spent_Medium_value_payments</td>\n",
       "      <td>496.651610</td>\n",
       "      <td>Poor</td>\n",
       "    </tr>\n",
       "    <tr>\n",
       "      <th>99997</th>\n",
       "      <td>0x25feb</td>\n",
       "      <td>CUS_0x942c</td>\n",
       "      <td>June</td>\n",
       "      <td>Nicks</td>\n",
       "      <td>25</td>\n",
       "      <td>78735990.0</td>\n",
       "      <td>Mechanic</td>\n",
       "      <td>39628.99</td>\n",
       "      <td>3359.415833</td>\n",
       "      <td>4</td>\n",
       "      <td>6</td>\n",
       "      <td>7</td>\n",
       "      <td>2</td>\n",
       "      <td>27</td>\n",
       "      <td>6.0</td>\n",
       "      <td>11.50</td>\n",
       "      <td>3.0</td>\n",
       "      <td>Good</td>\n",
       "      <td>502.38</td>\n",
       "      <td>41.255522</td>\n",
       "      <td>380.0</td>\n",
       "      <td>No</td>\n",
       "      <td>35.104023</td>\n",
       "      <td>24.028477</td>\n",
       "      <td>High_spent_Large_value_payments</td>\n",
       "      <td>516.809083</td>\n",
       "      <td>Poor</td>\n",
       "    </tr>\n",
       "    <tr>\n",
       "      <th>99998</th>\n",
       "      <td>0x25fec</td>\n",
       "      <td>CUS_0x942c</td>\n",
       "      <td>July</td>\n",
       "      <td>Nicks</td>\n",
       "      <td>25</td>\n",
       "      <td>78735990.0</td>\n",
       "      <td>Mechanic</td>\n",
       "      <td>39628.99</td>\n",
       "      <td>3359.415833</td>\n",
       "      <td>4</td>\n",
       "      <td>6</td>\n",
       "      <td>7</td>\n",
       "      <td>2</td>\n",
       "      <td>20</td>\n",
       "      <td>6.0</td>\n",
       "      <td>11.50</td>\n",
       "      <td>3.0</td>\n",
       "      <td>Good</td>\n",
       "      <td>502.38</td>\n",
       "      <td>33.638208</td>\n",
       "      <td>381.0</td>\n",
       "      <td>No</td>\n",
       "      <td>35.104023</td>\n",
       "      <td>251.672582</td>\n",
       "      <td>Low_spent_Large_value_payments</td>\n",
       "      <td>319.164979</td>\n",
       "      <td>Standard</td>\n",
       "    </tr>\n",
       "    <tr>\n",
       "      <th>99999</th>\n",
       "      <td>0x25fed</td>\n",
       "      <td>CUS_0x942c</td>\n",
       "      <td>August</td>\n",
       "      <td>Nicks</td>\n",
       "      <td>25</td>\n",
       "      <td>78735990.0</td>\n",
       "      <td>Mechanic</td>\n",
       "      <td>39628.99</td>\n",
       "      <td>3359.415833</td>\n",
       "      <td>4</td>\n",
       "      <td>6</td>\n",
       "      <td>7</td>\n",
       "      <td>2</td>\n",
       "      <td>18</td>\n",
       "      <td>6.0</td>\n",
       "      <td>11.50</td>\n",
       "      <td>3.0</td>\n",
       "      <td>Good</td>\n",
       "      <td>502.38</td>\n",
       "      <td>34.192463</td>\n",
       "      <td>382.0</td>\n",
       "      <td>No</td>\n",
       "      <td>35.104023</td>\n",
       "      <td>167.163865</td>\n",
       "      <td>High_spent_Large_value_payments</td>\n",
       "      <td>393.673696</td>\n",
       "      <td>Poor</td>\n",
       "    </tr>\n",
       "  </tbody>\n",
       "</table>\n",
       "<p>88416 rows × 27 columns</p>\n",
       "</div>"
      ],
      "text/plain": [
       "            ID Customer_ID     Month           Name  Age          SSN  \\\n",
       "0       0x1602   CUS_0xd40   January  Aaron Maashoh   23  821000265.0   \n",
       "1       0x1603   CUS_0xd40  February  Aaron Maashoh   23  821000265.0   \n",
       "2       0x1604   CUS_0xd40     March  Aaron Maashoh   23  821000265.0   \n",
       "3       0x1605   CUS_0xd40     April  Aaron Maashoh   23  821000265.0   \n",
       "4       0x1606   CUS_0xd40       May  Aaron Maashoh   23  821000265.0   \n",
       "...        ...         ...       ...            ...  ...          ...   \n",
       "99995  0x25fe9  CUS_0x942c     April          Nicks   25   78735990.0   \n",
       "99996  0x25fea  CUS_0x942c       May          Nicks   25   78735990.0   \n",
       "99997  0x25feb  CUS_0x942c      June          Nicks   25   78735990.0   \n",
       "99998  0x25fec  CUS_0x942c      July          Nicks   25   78735990.0   \n",
       "99999  0x25fed  CUS_0x942c    August          Nicks   25   78735990.0   \n",
       "\n",
       "      Occupation  Annual_Income  Monthly_Inhand_Salary  Num_Bank_Accounts  \\\n",
       "0      Scientist       19114.12            1824.843333                  3   \n",
       "1      Scientist       19114.12            1824.843333                  3   \n",
       "2      Scientist       19114.12            1824.843333                  3   \n",
       "3      Scientist       19114.12            1824.843333                  3   \n",
       "4      Scientist       19114.12            1824.843333                  3   \n",
       "...          ...            ...                    ...                ...   \n",
       "99995   Mechanic       39628.99            3359.415833                  4   \n",
       "99996   Mechanic       39628.99            3359.415833                  4   \n",
       "99997   Mechanic       39628.99            3359.415833                  4   \n",
       "99998   Mechanic       39628.99            3359.415833                  4   \n",
       "99999   Mechanic       39628.99            3359.415833                  4   \n",
       "\n",
       "       Num_Credit_Card  Interest_Rate  Num_of_Loan  Delay_from_due_date  \\\n",
       "0                    4              3            4                    3   \n",
       "1                    4              3            4                   -1   \n",
       "2                    4              3            4                    3   \n",
       "3                    4              3            4                    5   \n",
       "4                    4              3            4                    6   \n",
       "...                ...            ...          ...                  ...   \n",
       "99995                6              7            2                   23   \n",
       "99996                6              7            2                   18   \n",
       "99997                6              7            2                   27   \n",
       "99998                6              7            2                   20   \n",
       "99999                6              7            2                   18   \n",
       "\n",
       "       Num_of_Delayed_Payment  Changed_Credit_Limit  Num_Credit_Inquiries  \\\n",
       "0                         7.0                 11.27                   4.0   \n",
       "1                         4.0                 11.27                   4.0   \n",
       "2                         7.0                 11.27                   4.0   \n",
       "3                         4.0                  6.27                   4.0   \n",
       "4                         4.0                 11.27                   4.0   \n",
       "...                       ...                   ...                   ...   \n",
       "99995                     7.0                 11.50                   3.0   \n",
       "99996                     7.0                 11.50                   3.0   \n",
       "99997                     6.0                 11.50                   3.0   \n",
       "99998                     6.0                 11.50                   3.0   \n",
       "99999                     6.0                 11.50                   3.0   \n",
       "\n",
       "      Credit_Mix  Outstanding_Debt  Credit_Utilization_Ratio  \\\n",
       "0           Good            809.98                 26.822620   \n",
       "1           Good            809.98                 31.944960   \n",
       "2           Good            809.98                 28.609352   \n",
       "3           Good            809.98                 31.377862   \n",
       "4           Good            809.98                 24.797347   \n",
       "...          ...               ...                       ...   \n",
       "99995       Good            502.38                 34.663572   \n",
       "99996       Good            502.38                 40.565631   \n",
       "99997       Good            502.38                 41.255522   \n",
       "99998       Good            502.38                 33.638208   \n",
       "99999       Good            502.38                 34.192463   \n",
       "\n",
       "       Credit_History_Age Payment_of_Min_Amount  Total_EMI_per_month  \\\n",
       "0                   265.0                    No            49.574949   \n",
       "1                   265.0                    No            49.574949   \n",
       "2                   267.0                    No            49.574949   \n",
       "3                   268.0                    No            49.574949   \n",
       "4                   269.0                    No            49.574949   \n",
       "...                   ...                   ...                  ...   \n",
       "99995               378.0                    No            35.104023   \n",
       "99996               379.0                    No            35.104023   \n",
       "99997               380.0                    No            35.104023   \n",
       "99998               381.0                    No            35.104023   \n",
       "99999               382.0                    No            35.104023   \n",
       "\n",
       "       Amount_invested_monthly                 Payment_Behaviour  \\\n",
       "0                    80.415295   High_spent_Small_value_payments   \n",
       "1                   118.280222    Low_spent_Large_value_payments   \n",
       "2                    81.699521   Low_spent_Medium_value_payments   \n",
       "3                   199.458074    Low_spent_Small_value_payments   \n",
       "4                    41.420153  High_spent_Medium_value_payments   \n",
       "...                        ...                               ...   \n",
       "99995                60.971333   High_spent_Large_value_payments   \n",
       "99996                54.185950  High_spent_Medium_value_payments   \n",
       "99997                24.028477   High_spent_Large_value_payments   \n",
       "99998               251.672582    Low_spent_Large_value_payments   \n",
       "99999               167.163865   High_spent_Large_value_payments   \n",
       "\n",
       "       Monthly_Balance Credit_Score  \n",
       "0           312.494089         Good  \n",
       "1           284.629162         Good  \n",
       "2           331.209863         Good  \n",
       "3           223.451310         Good  \n",
       "4           341.489231         Good  \n",
       "...                ...          ...  \n",
       "99995       479.866228         Poor  \n",
       "99996       496.651610         Poor  \n",
       "99997       516.809083         Poor  \n",
       "99998       319.164979     Standard  \n",
       "99999       393.673696         Poor  \n",
       "\n",
       "[88416 rows x 27 columns]"
      ]
     },
     "execution_count": 99,
     "metadata": {},
     "output_type": "execute_result"
    }
   ],
   "source": [
    "data.fillna(0)"
   ]
  },
  {
   "cell_type": "code",
   "execution_count": 100,
   "id": "f36aab40",
   "metadata": {},
   "outputs": [
    {
     "data": {
      "text/plain": [
       "ID                             0\n",
       "Customer_ID                    0\n",
       "Month                          0\n",
       "Name                        8826\n",
       "Age                            0\n",
       "SSN                         4927\n",
       "Occupation                     0\n",
       "Annual_Income                  0\n",
       "Monthly_Inhand_Salary          0\n",
       "Num_Bank_Accounts              0\n",
       "Num_Credit_Card                0\n",
       "Interest_Rate                  0\n",
       "Num_of_Loan                    0\n",
       "Delay_from_due_date            0\n",
       "Num_of_Delayed_Payment         0\n",
       "Changed_Credit_Limit           0\n",
       "Num_Credit_Inquiries           0\n",
       "Credit_Mix                     0\n",
       "Outstanding_Debt               0\n",
       "Credit_Utilization_Ratio       0\n",
       "Credit_History_Age             0\n",
       "Payment_of_Min_Amount          0\n",
       "Total_EMI_per_month            0\n",
       "Amount_invested_monthly        0\n",
       "Payment_Behaviour              0\n",
       "Monthly_Balance                0\n",
       "Credit_Score                   0\n",
       "dtype: int64"
      ]
     },
     "execution_count": 100,
     "metadata": {},
     "output_type": "execute_result"
    }
   ],
   "source": [
    "data.isnull().sum()"
   ]
  },
  {
   "cell_type": "code",
   "execution_count": 101,
   "id": "faf26619",
   "metadata": {},
   "outputs": [],
   "source": [
    "### \n",
    "\n",
    "data.to_csv('./credit_data.csv',index=False)"
   ]
  },
  {
   "cell_type": "code",
   "execution_count": null,
   "id": "8ca2e733",
   "metadata": {},
   "outputs": [],
   "source": []
  }
 ],
 "metadata": {
  "kernelspec": {
   "display_name": "Python 3 (ipykernel)",
   "language": "python",
   "name": "python3"
  },
  "language_info": {
   "codemirror_mode": {
    "name": "ipython",
    "version": 3
   },
   "file_extension": ".py",
   "mimetype": "text/x-python",
   "name": "python",
   "nbconvert_exporter": "python",
   "pygments_lexer": "ipython3",
   "version": "3.9.12"
  }
 },
 "nbformat": 4,
 "nbformat_minor": 5
}
